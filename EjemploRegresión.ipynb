{
  "nbformat": 4,
  "nbformat_minor": 0,
  "metadata": {
    "colab": {
      "name": "EjemploRegresión.ipynb",
      "provenance": [],
      "toc_visible": true
    },
    "kernelspec": {
      "name": "python3",
      "display_name": "Python 3"
    }
  },
  "cells": [
    {
      "cell_type": "markdown",
      "metadata": {
        "id": "uZqJh2yORuT8"
      },
      "source": [
        "\n",
        "#Regresión\n",
        " Tenemos que cambiar el dataset porque la clase no es un nominal sino un valor númerico. \n",
        " Sin embargo, no solo podemos importar un ejemplo, sino que podemos crear datos propios."
      ]
    },
    {
      "cell_type": "code",
      "metadata": {
        "id": "D7YYUP19RJ_L"
      },
      "source": [
        "import numpy as np\n",
        "import matplotlib.pyplot as plt\n"
      ],
      "execution_count": null,
      "outputs": []
    },
    {
      "cell_type": "markdown",
      "metadata": {
        "id": "B-hTa3kLeRG5"
      },
      "source": [
        "Creamos un dataset "
      ]
    },
    {
      "cell_type": "code",
      "metadata": {
        "id": "00yWzs4PdTed"
      },
      "source": [
        "rng = np.random.RandomState(1)\n",
        "X = np.linspace(0, 5, 120)[:, np.newaxis]\n",
        "y = np.sin(X).ravel() + np.sin(6 * X).ravel() + rng.normal(0, 0.1, X.shape[0])"
      ],
      "execution_count": null,
      "outputs": []
    },
    {
      "cell_type": "markdown",
      "metadata": {
        "id": "eqmD9u3Se8zl"
      },
      "source": [
        "Importamos modelos de regresión"
      ]
    },
    {
      "cell_type": "code",
      "metadata": {
        "id": "BN0gjfbPfDcf"
      },
      "source": [
        "from sklearn.tree import DecisionTreeRegressor\n",
        "from sklearn.ensemble import AdaBoostRegressor"
      ],
      "execution_count": null,
      "outputs": []
    },
    {
      "cell_type": "markdown",
      "metadata": {
        "id": "Jwb2J90gfHCr"
      },
      "source": [
        "Inicializamos los modelos de regresión:\n",
        "\n",
        "\n",
        "1.   DecisionTreeRegressor:\n",
        "> max_depth  int, default=None \n",
        "> n_estimators \n",
        "> random_state int default=None, este valor se usa comosemilla utilizada por el generador de números aleatorios; \n",
        "2.   AdaBoostRegressor\n",
        "> base_estimator (default=None)\n",
        "El estimador de base. Si no hay ninguno, se usa DecisionTreeRegressor(max_depth=3).\n",
        "\n",
        "\n",
        "\n",
        "\n"
      ]
    },
    {
      "cell_type": "code",
      "metadata": {
        "id": "2cIADMwwfGSc",
        "colab": {
          "base_uri": "https://localhost:8080/"
        },
        "outputId": "56acdf8b-5db6-4aef-a943-59427855099e"
      },
      "source": [
        "regresion_1 = DecisionTreeRegressor(max_depth=4)\n",
        "\n",
        "regresion_2 = AdaBoostRegressor(DecisionTreeRegressor(max_depth=4),\n",
        "                          n_estimators=500, random_state=rng)\n",
        "\n",
        "regresion_1.fit(X, y)\n",
        "regresion_2.fit(X, y)"
      ],
      "execution_count": null,
      "outputs": [
        {
          "output_type": "execute_result",
          "data": {
            "text/plain": [
              "AdaBoostRegressor(base_estimator=DecisionTreeRegressor(ccp_alpha=0.0,\n",
              "                                                       criterion='mse',\n",
              "                                                       max_depth=4,\n",
              "                                                       max_features=None,\n",
              "                                                       max_leaf_nodes=None,\n",
              "                                                       min_impurity_decrease=0.0,\n",
              "                                                       min_impurity_split=None,\n",
              "                                                       min_samples_leaf=1,\n",
              "                                                       min_samples_split=2,\n",
              "                                                       min_weight_fraction_leaf=0.0,\n",
              "                                                       presort='deprecated',\n",
              "                                                       random_state=None,\n",
              "                                                       splitter='best'),\n",
              "                  learning_rate=1.0, loss='linear', n_estimators=500,\n",
              "                  random_state=RandomState(MT19937) at 0x7EFD9263A990)"
            ]
          },
          "metadata": {
            "tags": []
          },
          "execution_count": 4
        }
      ]
    },
    {
      "cell_type": "markdown",
      "metadata": {
        "id": "6Vk2mWrMGIkF"
      },
      "source": [
        "Utilizar el algoritmo de predicción\n"
      ]
    },
    {
      "cell_type": "code",
      "metadata": {
        "id": "ZoXpk3vcGT2s"
      },
      "source": [
        "y_1 = regresion_1.predict(X)\n",
        "y_2 = regresion_2.predict(X)"
      ],
      "execution_count": null,
      "outputs": []
    },
    {
      "cell_type": "markdown",
      "metadata": {
        "id": "qFsgSvQZGZ9X"
      },
      "source": [
        "##Imprimir los resultados"
      ]
    },
    {
      "cell_type": "code",
      "metadata": {
        "id": "pykcAICMeTcp",
        "colab": {
          "base_uri": "https://localhost:8080/"
        },
        "outputId": "de0f5e94-f3cb-45f0-8cd2-4ace74fd189b"
      },
      "source": [
        "X"
      ],
      "execution_count": null,
      "outputs": [
        {
          "output_type": "execute_result",
          "data": {
            "text/plain": [
              "array([[0.        ],\n",
              "       [0.04201681],\n",
              "       [0.08403361],\n",
              "       [0.12605042],\n",
              "       [0.16806723],\n",
              "       [0.21008403],\n",
              "       [0.25210084],\n",
              "       [0.29411765],\n",
              "       [0.33613445],\n",
              "       [0.37815126],\n",
              "       [0.42016807],\n",
              "       [0.46218487],\n",
              "       [0.50420168],\n",
              "       [0.54621849],\n",
              "       [0.58823529],\n",
              "       [0.6302521 ],\n",
              "       [0.67226891],\n",
              "       [0.71428571],\n",
              "       [0.75630252],\n",
              "       [0.79831933],\n",
              "       [0.84033613],\n",
              "       [0.88235294],\n",
              "       [0.92436975],\n",
              "       [0.96638655],\n",
              "       [1.00840336],\n",
              "       [1.05042017],\n",
              "       [1.09243697],\n",
              "       [1.13445378],\n",
              "       [1.17647059],\n",
              "       [1.21848739],\n",
              "       [1.2605042 ],\n",
              "       [1.30252101],\n",
              "       [1.34453782],\n",
              "       [1.38655462],\n",
              "       [1.42857143],\n",
              "       [1.47058824],\n",
              "       [1.51260504],\n",
              "       [1.55462185],\n",
              "       [1.59663866],\n",
              "       [1.63865546],\n",
              "       [1.68067227],\n",
              "       [1.72268908],\n",
              "       [1.76470588],\n",
              "       [1.80672269],\n",
              "       [1.8487395 ],\n",
              "       [1.8907563 ],\n",
              "       [1.93277311],\n",
              "       [1.97478992],\n",
              "       [2.01680672],\n",
              "       [2.05882353],\n",
              "       [2.10084034],\n",
              "       [2.14285714],\n",
              "       [2.18487395],\n",
              "       [2.22689076],\n",
              "       [2.26890756],\n",
              "       [2.31092437],\n",
              "       [2.35294118],\n",
              "       [2.39495798],\n",
              "       [2.43697479],\n",
              "       [2.4789916 ],\n",
              "       [2.5210084 ],\n",
              "       [2.56302521],\n",
              "       [2.60504202],\n",
              "       [2.64705882],\n",
              "       [2.68907563],\n",
              "       [2.73109244],\n",
              "       [2.77310924],\n",
              "       [2.81512605],\n",
              "       [2.85714286],\n",
              "       [2.89915966],\n",
              "       [2.94117647],\n",
              "       [2.98319328],\n",
              "       [3.02521008],\n",
              "       [3.06722689],\n",
              "       [3.1092437 ],\n",
              "       [3.1512605 ],\n",
              "       [3.19327731],\n",
              "       [3.23529412],\n",
              "       [3.27731092],\n",
              "       [3.31932773],\n",
              "       [3.36134454],\n",
              "       [3.40336134],\n",
              "       [3.44537815],\n",
              "       [3.48739496],\n",
              "       [3.52941176],\n",
              "       [3.57142857],\n",
              "       [3.61344538],\n",
              "       [3.65546218],\n",
              "       [3.69747899],\n",
              "       [3.7394958 ],\n",
              "       [3.78151261],\n",
              "       [3.82352941],\n",
              "       [3.86554622],\n",
              "       [3.90756303],\n",
              "       [3.94957983],\n",
              "       [3.99159664],\n",
              "       [4.03361345],\n",
              "       [4.07563025],\n",
              "       [4.11764706],\n",
              "       [4.15966387],\n",
              "       [4.20168067],\n",
              "       [4.24369748],\n",
              "       [4.28571429],\n",
              "       [4.32773109],\n",
              "       [4.3697479 ],\n",
              "       [4.41176471],\n",
              "       [4.45378151],\n",
              "       [4.49579832],\n",
              "       [4.53781513],\n",
              "       [4.57983193],\n",
              "       [4.62184874],\n",
              "       [4.66386555],\n",
              "       [4.70588235],\n",
              "       [4.74789916],\n",
              "       [4.78991597],\n",
              "       [4.83193277],\n",
              "       [4.87394958],\n",
              "       [4.91596639],\n",
              "       [4.95798319],\n",
              "       [5.        ]])"
            ]
          },
          "metadata": {
            "tags": []
          },
          "execution_count": 6
        }
      ]
    },
    {
      "cell_type": "code",
      "metadata": {
        "id": "fLW3I3xufmzj",
        "colab": {
          "base_uri": "https://localhost:8080/"
        },
        "outputId": "05bcbc53-b543-40fd-b2bf-b22542e51bb5"
      },
      "source": [
        "y"
      ],
      "execution_count": null,
      "outputs": [
        {
          "output_type": "execute_result",
          "data": {
            "text/plain": [
              "array([ 0.16243454,  0.23026775,  0.51422619,  0.7046567 ,  1.09979946,\n",
              "        0.93063263,  1.42222748,  1.19503319,  1.26391953,  1.11032354,\n",
              "        1.13563527,  0.60009179,  0.56698691,  0.34575222,  0.29010035,\n",
              "       -0.11777192, -0.17282209, -0.34305489, -0.29434259, -0.22253062,\n",
              "       -0.31135736,  0.05119424,  0.21635546,  0.4069973 ,  0.7053982 ,\n",
              "        0.81859392,  1.14357798,  1.31267335,  1.5966389 ,  1.84774685,\n",
              "        1.84104828,  1.92379935,  1.88314454,  1.7922212 ,  1.67626519,\n",
              "        1.55938941,  1.22867339,  1.12020537,  1.0112129 ,  0.67590453,\n",
              "        0.3622575 ,  0.10938801, -0.01163573,  0.15356895, -0.02860988,\n",
              "       -0.05417917,  0.12955601,  0.47192211,  0.46529445,  0.73316714,\n",
              "        0.93146362,  1.09225426,  1.21965159,  1.47129184,  1.61113218,\n",
              "        1.76038187,  1.79311131,  1.74535749,  1.56112473,  1.44431787,\n",
              "        1.05569373,  0.99597708,  0.64010035,  0.271305  ,  0.07240418,\n",
              "       -0.23618621, -0.32866957, -0.45298639, -0.49159253, -0.89284102,\n",
              "       -0.8782752 , -0.7063547 , -0.51078929, -0.26962168, -0.12897056,\n",
              "       -0.15391324,  0.22287938,  0.52228936,  0.61495938,  0.77487177,\n",
              "        0.72812427,  0.72113478,  0.68795809,  0.57770296,  0.36916429,\n",
              "        0.12854714, -0.21609136, -0.395452  , -0.70803017, -0.88116572,\n",
              "       -1.11987027, -1.4252139 , -1.63268866, -1.75032351, -1.67137774,\n",
              "       -1.66935467, -1.61498096, -1.42765132, -1.30430679, -0.95516364,\n",
              "       -0.83984565, -0.44619271, -0.32068259, -0.1271824 , -0.16671023,\n",
              "        0.03477621,  0.10712523, -0.10856976, -0.14527433, -0.27386246,\n",
              "       -0.61630226, -0.68026201, -0.87633292, -1.29677392, -1.41050921,\n",
              "       -1.78141582, -1.81537279, -2.08052842, -1.85312804, -1.90606584])"
            ]
          },
          "metadata": {
            "tags": []
          },
          "execution_count": 7
        }
      ]
    },
    {
      "cell_type": "code",
      "metadata": {
        "id": "ChzWEVzIGeWt",
        "colab": {
          "base_uri": "https://localhost:8080/",
          "height": 295
        },
        "outputId": "c34c85fa-e361-4aa2-f562-bd4fcdcdedda"
      },
      "source": [
        "plt.figure()\n",
        "plt.scatter(X, y, c=\"k\", label=\"Ejemplos de entrenamiento\")\n",
        "plt.plot(X, y_1, c=\"g\", label=\"1 estimador\", linewidth=2)\n",
        "plt.plot(X, y_2, c=\"r\", label=\"500 estimarores\", linewidth=2)\n",
        "plt.xlabel(\"datos\")\n",
        "plt.ylabel(\"objetivo\")\n",
        "plt.title(\"Regresión de árboles de decisión\")\n",
        "plt.legend()\n",
        "plt.show()"
      ],
      "execution_count": null,
      "outputs": [
        {
          "output_type": "display_data",
          "data": {
            "image/png": "[encoded data removed]",
            "text/plain": [
              "<Figure size 432x288 with 1 Axes>"
            ]
          },
          "metadata": {
            "tags": [],
            "needs_background": "light"
          }
        }
      ]
    },
    {
      "cell_type": "markdown",
      "metadata": {
        "id": "zi5r3KLLGyhq"
      },
      "source": [
        "##Imprimidir datos estadísticos"
      ]
    },
    {
      "cell_type": "code",
      "metadata": {
        "id": "E8fBoWQaHCDU",
        "colab": {
          "base_uri": "https://localhost:8080/"
        },
        "outputId": "0e68d415-bc72-4c7c-dbef-6cabee49c28c"
      },
      "source": [
        "import statsmodels.api as statsmodels"
      ],
      "execution_count": null,
      "outputs": [
        {
          "output_type": "stream",
          "text": [
            "/usr/local/lib/python3.6/dist-packages/statsmodels/tools/_testing.py:19: FutureWarning: pandas.util.testing is deprecated. Use the functions in the public API at pandas.testing instead.\n",
            "  import pandas.util.testing as tm\n"
          ],
          "name": "stderr"
        }
      ]
    },
    {
      "cell_type": "markdown",
      "metadata": {
        "id": "ZGvzwWuGPUD-"
      },
      "source": [
        "Vamos a mostrar  el coeficiente de determinación R^2 de la predicción. Este coeficiente determina la calidad del modelo para replicar los resultados, y la proporción de variación de los resultados que puede explicarse por el modelo."
      ]
    },
    {
      "cell_type": "code",
      "metadata": {
        "id": "XJ6Zc6AsLCCn",
        "colab": {
          "base_uri": "https://localhost:8080/"
        },
        "outputId": "7b4ebbd4-b3a2-49da-dcaf-c2ae9f361e04"
      },
      "source": [
        "regresion_1.score(X, y)\n",
        "\n"
      ],
      "execution_count": null,
      "outputs": [
        {
          "output_type": "execute_result",
          "data": {
            "text/plain": [
              "0.8660909750397155"
            ]
          },
          "metadata": {
            "tags": []
          },
          "execution_count": 10
        }
      ]
    },
    {
      "cell_type": "markdown",
      "metadata": {
        "id": "mNTPF7Kzf_kd"
      },
      "source": [
        "Comparamos el resultado con el modelo predictivo 2."
      ]
    },
    {
      "cell_type": "code",
      "metadata": {
        "id": "nSSRcrS4LVTJ",
        "colab": {
          "base_uri": "https://localhost:8080/"
        },
        "outputId": "1c06e49b-9d43-4335-a4b4-0b9938f2e354"
      },
      "source": [
        "regresion_2.score(X, y)"
      ],
      "execution_count": null,
      "outputs": [
        {
          "output_type": "execute_result",
          "data": {
            "text/plain": [
              "0.978070454754023"
            ]
          },
          "metadata": {
            "tags": []
          },
          "execution_count": 11
        }
      ]
    },
    {
      "cell_type": "markdown",
      "metadata": {
        "id": "fHL0J04eOLwV"
      },
      "source": [
        "## statsmodels\n",
        "El API se centra en los modelos y las pruebas estadísticas más utilizadas, y en las herramientas. "
      ]
    },
    {
      "cell_type": "code",
      "metadata": {
        "id": "nq-WtNjxh1Tj"
      },
      "source": [
        "import statsmodels.api as statsmodels"
      ],
      "execution_count": null,
      "outputs": []
    },
    {
      "cell_type": "markdown",
      "metadata": {
        "id": "dmWux5fxOaDp"
      },
      "source": [
        "Regresión\n",
        "\n",
        "\n",
        "\n",
        "1.   OLS (Odinary Least Squares)\n",
        "1.   GLS (Generalized Least Squares)\n",
        "2.   WLS (Weighted Least Squares) \n",
        "\n"
      ]
    },
    {
      "cell_type": "code",
      "metadata": {
        "id": "CASKZQ20MCJK"
      },
      "source": [
        "# Note the difference in argument order\n",
        "model = statsmodels.OLS(y, X).fit()\n",
        "predictions = model.predict(X) # make the predictions by the model"
      ],
      "execution_count": null,
      "outputs": []
    },
    {
      "cell_type": "code",
      "metadata": {
        "id": "tyQAP4q2MGXC",
        "colab": {
          "base_uri": "https://localhost:8080/",
          "height": 423
        },
        "outputId": "bf4dbbaf-e1af-4dab-e68a-5b71ec5dab34"
      },
      "source": [
        "# Print out the statistics\n",
        "model.summary()"
      ],
      "execution_count": null,
      "outputs": [
        {
          "output_type": "execute_result",
          "data": {
            "text/html": [
              "<table class=\"simpletable\">\n",
              "<caption>OLS Regression Results</caption>\n",
              "<tr>\n",
              "  <th>Dep. Variable:</th>            <td>y</td>        <th>  R-squared (uncentered):</th>      <td>   0.032</td>\n",
              "</tr>\n",
              "<tr>\n",
              "  <th>Model:</th>                   <td>OLS</td>       <th>  Adj. R-squared (uncentered):</th> <td>   0.024</td>\n",
              "</tr>\n",
              "<tr>\n",
              "  <th>Method:</th>             <td>Least Squares</td>  <th>  F-statistic:       </th>          <td>   3.945</td>\n",
              "</tr>\n",
              "<tr>\n",
              "  <th>Date:</th>             <td>Thu, 10 Dec 2020</td> <th>  Prob (F-statistic):</th>           <td>0.0493</td> \n",
              "</tr>\n",
              "<tr>\n",
              "  <th>Time:</th>                 <td>10:59:56</td>     <th>  Log-Likelihood:    </th>          <td> -170.98</td>\n",
              "</tr>\n",
              "<tr>\n",
              "  <th>No. Observations:</th>      <td>   120</td>      <th>  AIC:               </th>          <td>   344.0</td>\n",
              "</tr>\n",
              "<tr>\n",
              "  <th>Df Residuals:</th>          <td>   119</td>      <th>  BIC:               </th>          <td>   346.7</td>\n",
              "</tr>\n",
              "<tr>\n",
              "  <th>Df Model:</th>              <td>     1</td>      <th>                     </th>              <td> </td>   \n",
              "</tr>\n",
              "<tr>\n",
              "  <th>Covariance Type:</th>      <td>nonrobust</td>    <th>                     </th>              <td> </td>   \n",
              "</tr>\n",
              "</table>\n",
              "<table class=\"simpletable\">\n",
              "<tr>\n",
              "   <td></td>     <th>coef</th>     <th>std err</th>      <th>t</th>      <th>P>|t|</th>  <th>[0.025</th>    <th>0.975]</th>  \n",
              "</tr>\n",
              "<tr>\n",
              "  <th>x1</th> <td>   -0.0633</td> <td>    0.032</td> <td>   -1.986</td> <td> 0.049</td> <td>   -0.126</td> <td>   -0.000</td>\n",
              "</tr>\n",
              "</table>\n",
              "<table class=\"simpletable\">\n",
              "<tr>\n",
              "  <th>Omnibus:</th>       <td> 4.200</td> <th>  Durbin-Watson:     </th> <td>   0.046</td>\n",
              "</tr>\n",
              "<tr>\n",
              "  <th>Prob(Omnibus):</th> <td> 0.122</td> <th>  Jarque-Bera (JB):  </th> <td>   2.852</td>\n",
              "</tr>\n",
              "<tr>\n",
              "  <th>Skew:</th>          <td>-0.207</td> <th>  Prob(JB):          </th> <td>   0.240</td>\n",
              "</tr>\n",
              "<tr>\n",
              "  <th>Kurtosis:</th>      <td> 2.369</td> <th>  Cond. No.          </th> <td>    1.00</td>\n",
              "</tr>\n",
              "</table><br/><br/>Warnings:<br/>[1] Standard Errors assume that the covariance matrix of the errors is correctly specified."
            ],
            "text/plain": [
              "<class 'statsmodels.iolib.summary.Summary'>\n",
              "\"\"\"\n",
              "                                 OLS Regression Results                                \n",
              "=======================================================================================\n",
              "Dep. Variable:                      y   R-squared (uncentered):                   0.032\n",
              "Model:                            OLS   Adj. R-squared (uncentered):              0.024\n",
              "Method:                 Least Squares   F-statistic:                              3.945\n",
              "Date:                Thu, 10 Dec 2020   Prob (F-statistic):                      0.0493\n",
              "Time:                        10:59:56   Log-Likelihood:                         -170.98\n",
              "No. Observations:                 120   AIC:                                      344.0\n",
              "Df Residuals:                     119   BIC:                                      346.7\n",
              "Df Model:                           1                                                  \n",
              "Covariance Type:            nonrobust                                                  \n",
              "==============================================================================\n",
              "                 coef    std err          t      P>|t|      [0.025      0.975]\n",
              "------------------------------------------------------------------------------\n",
              "x1            -0.0633      0.032     -1.986      0.049      -0.126      -0.000\n",
              "==============================================================================\n",
              "Omnibus:                        4.200   Durbin-Watson:                   0.046\n",
              "Prob(Omnibus):                  0.122   Jarque-Bera (JB):                2.852\n",
              "Skew:                          -0.207   Prob(JB):                        0.240\n",
              "Kurtosis:                       2.369   Cond. No.                         1.00\n",
              "==============================================================================\n",
              "\n",
              "Warnings:\n",
              "[1] Standard Errors assume that the covariance matrix of the errors is correctly specified.\n",
              "\"\"\""
            ]
          },
          "metadata": {
            "tags": []
          },
          "execution_count": 14
        }
      ]
    },
    {
      "cell_type": "markdown",
      "metadata": {
        "id": "516wYAx-o86O"
      },
      "source": [
        "# Ejercicio de regresión a partir de un conjunto de datos  y análisis de los datos de entrada\n",
        "\n"
      ]
    },
    {
      "cell_type": "markdown",
      "metadata": {
        "id": "PZlrVcihJfgi"
      },
      "source": [
        "Vamos a cargar dos ficheros de datos, uno para entrenamiento y otro para test"
      ]
    },
    {
      "cell_type": "code",
      "metadata": {
        "id": "n4iHFxyqrCSW"
      },
      "source": [
        "import pandas as pd\n",
        "training = pd.read_csv('adult-data-regression-usa-3.csv') \n",
        "test = pd.read_csv('adult-test-regression-usa-3.csv')"
      ],
      "execution_count": null,
      "outputs": []
    },
    {
      "cell_type": "markdown",
      "metadata": {
        "id": "WjYNgQoBvR7T"
      },
      "source": [
        "Vamos a ojear la información que tenemos en los dos ficheros"
      ]
    },
    {
      "cell_type": "code",
      "metadata": {
        "id": "ztnhxug2u5Zk",
        "colab": {
          "base_uri": "https://localhost:8080/",
          "height": 204
        },
        "outputId": "99dfc6b0-a7a4-4e3c-e5f0-162b6b9635da"
      },
      "source": [
        "training.head()\n"
      ],
      "execution_count": null,
      "outputs": [
        {
          "output_type": "execute_result",
          "data": {
            "text/html": [
              "<div>\n",
              "<style scoped>\n",
              "    .dataframe tbody tr th:only-of-type {\n",
              "        vertical-align: middle;\n",
              "    }\n",
              "\n",
              "    .dataframe tbody tr th {\n",
              "        vertical-align: top;\n",
              "    }\n",
              "\n",
              "    .dataframe thead th {\n",
              "        text-align: right;\n",
              "    }\n",
              "</style>\n",
              "<table border=\"1\" class=\"dataframe\">\n",
              "  <thead>\n",
              "    <tr style=\"text-align: right;\">\n",
              "      <th></th>\n",
              "      <th>age</th>\n",
              "      <th>workclass</th>\n",
              "      <th>fnlwgt</th>\n",
              "      <th>education</th>\n",
              "      <th>education-num</th>\n",
              "      <th>marital-status</th>\n",
              "      <th>occupation</th>\n",
              "      <th>relationship</th>\n",
              "      <th>race</th>\n",
              "      <th>sex</th>\n",
              "      <th>capital-gain</th>\n",
              "      <th>capital-loss</th>\n",
              "      <th>hours-per-week</th>\n",
              "      <th>money</th>\n",
              "    </tr>\n",
              "  </thead>\n",
              "  <tbody>\n",
              "    <tr>\n",
              "      <th>0</th>\n",
              "      <td>39</td>\n",
              "      <td>State-gov</td>\n",
              "      <td>77516</td>\n",
              "      <td>Bachelors</td>\n",
              "      <td>13</td>\n",
              "      <td>Never-married</td>\n",
              "      <td>Adm-clerical</td>\n",
              "      <td>Not-in-family</td>\n",
              "      <td>White</td>\n",
              "      <td>Male</td>\n",
              "      <td>2174</td>\n",
              "      <td>0</td>\n",
              "      <td>40</td>\n",
              "      <td>13814.73333</td>\n",
              "    </tr>\n",
              "    <tr>\n",
              "      <th>1</th>\n",
              "      <td>50</td>\n",
              "      <td>Self-emp-not-inc</td>\n",
              "      <td>83311</td>\n",
              "      <td>Bachelors</td>\n",
              "      <td>13</td>\n",
              "      <td>Married-civ-spouse</td>\n",
              "      <td>Exec-managerial</td>\n",
              "      <td>Husband</td>\n",
              "      <td>White</td>\n",
              "      <td>Male</td>\n",
              "      <td>0</td>\n",
              "      <td>0</td>\n",
              "      <td>13</td>\n",
              "      <td>12500.03000</td>\n",
              "    </tr>\n",
              "    <tr>\n",
              "      <th>2</th>\n",
              "      <td>38</td>\n",
              "      <td>Private</td>\n",
              "      <td>215646</td>\n",
              "      <td>HS-grad</td>\n",
              "      <td>9</td>\n",
              "      <td>Divorced</td>\n",
              "      <td>Handlers-cleaners</td>\n",
              "      <td>Not-in-family</td>\n",
              "      <td>White</td>\n",
              "      <td>Male</td>\n",
              "      <td>0</td>\n",
              "      <td>0</td>\n",
              "      <td>40</td>\n",
              "      <td>32356.37368</td>\n",
              "    </tr>\n",
              "    <tr>\n",
              "      <th>3</th>\n",
              "      <td>53</td>\n",
              "      <td>Private</td>\n",
              "      <td>234721</td>\n",
              "      <td>11th</td>\n",
              "      <td>7</td>\n",
              "      <td>Married-civ-spouse</td>\n",
              "      <td>Handlers-cleaners</td>\n",
              "      <td>Husband</td>\n",
              "      <td>Black</td>\n",
              "      <td>Male</td>\n",
              "      <td>0</td>\n",
              "      <td>0</td>\n",
              "      <td>40</td>\n",
              "      <td>35213.43302</td>\n",
              "    </tr>\n",
              "    <tr>\n",
              "      <th>4</th>\n",
              "      <td>37</td>\n",
              "      <td>Private</td>\n",
              "      <td>284582</td>\n",
              "      <td>Masters</td>\n",
              "      <td>14</td>\n",
              "      <td>Married-civ-spouse</td>\n",
              "      <td>Exec-managerial</td>\n",
              "      <td>Wife</td>\n",
              "      <td>White</td>\n",
              "      <td>Female</td>\n",
              "      <td>0</td>\n",
              "      <td>0</td>\n",
              "      <td>40</td>\n",
              "      <td>42702.43514</td>\n",
              "    </tr>\n",
              "  </tbody>\n",
              "</table>\n",
              "</div>"
            ],
            "text/plain": [
              "   age         workclass  fnlwgt  ... capital-loss  hours-per-week        money\n",
              "0   39         State-gov   77516  ...            0              40  13814.73333\n",
              "1   50  Self-emp-not-inc   83311  ...            0              13  12500.03000\n",
              "2   38           Private  215646  ...            0              40  32356.37368\n",
              "3   53           Private  234721  ...            0              40  35213.43302\n",
              "4   37           Private  284582  ...            0              40  42702.43514\n",
              "\n",
              "[5 rows x 14 columns]"
            ]
          },
          "metadata": {
            "tags": []
          },
          "execution_count": 52
        }
      ]
    },
    {
      "cell_type": "code",
      "metadata": {
        "id": "KWJKuEOeq2m-"
      },
      "source": [
        "# libraries import\n",
        "from sklearn import preprocessing\n",
        "from sklearn.model_selection import KFold\n",
        "from sklearn.linear_model import LinearRegression\n",
        "import matplotlib.pyplot as plt"
      ],
      "execution_count": null,
      "outputs": []
    },
    {
      "cell_type": "code",
      "metadata": {
        "id": "9cwX2GLEvcxh",
        "colab": {
          "base_uri": "https://localhost:8080/"
        },
        "outputId": "d1fce05f-5c99-4ecb-e19a-a9548ea9bf4d"
      },
      "source": [
        "training.shape"
      ],
      "execution_count": null,
      "outputs": [
        {
          "output_type": "execute_result",
          "data": {
            "text/plain": [
              "(27494, 14)"
            ]
          },
          "metadata": {
            "tags": []
          },
          "execution_count": 54
        }
      ]
    },
    {
      "cell_type": "markdown",
      "metadata": {
        "id": "Q7YRViruvXhP"
      },
      "source": [
        "Datos de test"
      ]
    },
    {
      "cell_type": "code",
      "metadata": {
        "id": "jcPuGPV-vmju",
        "colab": {
          "base_uri": "https://localhost:8080/"
        },
        "outputId": "f46bf0bc-7e35-47ff-aa3c-5a3b6e3914f5"
      },
      "source": [
        "test.shape"
      ],
      "execution_count": null,
      "outputs": [
        {
          "output_type": "execute_result",
          "data": {
            "text/plain": [
              "(13791, 14)"
            ]
          },
          "metadata": {
            "tags": []
          },
          "execution_count": 41
        }
      ]
    },
    {
      "cell_type": "code",
      "metadata": {
        "id": "abGywRpcvrLg",
        "colab": {
          "base_uri": "https://localhost:8080/"
        },
        "outputId": "d4d2a74c-0219-4e6a-cfa5-03dc115805d1"
      },
      "source": [
        "test.dtypes"
      ],
      "execution_count": null,
      "outputs": [
        {
          "output_type": "execute_result",
          "data": {
            "text/plain": [
              "age                 int64\n",
              "workclass          object\n",
              "fnlwgt              int64\n",
              "education          object\n",
              "education-num       int64\n",
              "marital-status     object\n",
              "occupation         object\n",
              "relationship       object\n",
              "race               object\n",
              "sex                object\n",
              "capital-gain        int64\n",
              "capital-loss        int64\n",
              "hours-per-week      int64\n",
              "money             float64\n",
              "dtype: object"
            ]
          },
          "metadata": {
            "tags": []
          },
          "execution_count": 55
        }
      ]
    },
    {
      "cell_type": "code",
      "metadata": {
        "id": "88zNGU6gvJd8",
        "colab": {
          "base_uri": "https://localhost:8080/",
          "height": 204
        },
        "outputId": "707bb342-4d3f-4a7a-83e0-51d42e5d45c3"
      },
      "source": [
        "test.tail()"
      ],
      "execution_count": null,
      "outputs": [
        {
          "output_type": "execute_result",
          "data": {
            "text/html": [
              "<div>\n",
              "<style scoped>\n",
              "    .dataframe tbody tr th:only-of-type {\n",
              "        vertical-align: middle;\n",
              "    }\n",
              "\n",
              "    .dataframe tbody tr th {\n",
              "        vertical-align: top;\n",
              "    }\n",
              "\n",
              "    .dataframe thead th {\n",
              "        text-align: right;\n",
              "    }\n",
              "</style>\n",
              "<table border=\"1\" class=\"dataframe\">\n",
              "  <thead>\n",
              "    <tr style=\"text-align: right;\">\n",
              "      <th></th>\n",
              "      <th>age</th>\n",
              "      <th>workclass</th>\n",
              "      <th>fnlwgt</th>\n",
              "      <th>education</th>\n",
              "      <th>education-num</th>\n",
              "      <th>marital-status</th>\n",
              "      <th>occupation</th>\n",
              "      <th>relationship</th>\n",
              "      <th>race</th>\n",
              "      <th>sex</th>\n",
              "      <th>capital-gain</th>\n",
              "      <th>capital-loss</th>\n",
              "      <th>hours-per-week</th>\n",
              "      <th>money</th>\n",
              "    </tr>\n",
              "  </thead>\n",
              "  <tbody>\n",
              "    <tr>\n",
              "      <th>13786</th>\n",
              "      <td>33</td>\n",
              "      <td>Private</td>\n",
              "      <td>245211</td>\n",
              "      <td>Bachelors</td>\n",
              "      <td>13</td>\n",
              "      <td>Never-married</td>\n",
              "      <td>Prof-specialty</td>\n",
              "      <td>Own-child</td>\n",
              "      <td>White</td>\n",
              "      <td>Male</td>\n",
              "      <td>0</td>\n",
              "      <td>0</td>\n",
              "      <td>40</td>\n",
              "      <td>36797.40758</td>\n",
              "    </tr>\n",
              "    <tr>\n",
              "      <th>13787</th>\n",
              "      <td>39</td>\n",
              "      <td>Private</td>\n",
              "      <td>215419</td>\n",
              "      <td>Bachelors</td>\n",
              "      <td>13</td>\n",
              "      <td>Divorced</td>\n",
              "      <td>Prof-specialty</td>\n",
              "      <td>Not-in-family</td>\n",
              "      <td>White</td>\n",
              "      <td>Female</td>\n",
              "      <td>0</td>\n",
              "      <td>0</td>\n",
              "      <td>36</td>\n",
              "      <td>32324.85000</td>\n",
              "    </tr>\n",
              "    <tr>\n",
              "      <th>13788</th>\n",
              "      <td>38</td>\n",
              "      <td>Private</td>\n",
              "      <td>374983</td>\n",
              "      <td>Bachelors</td>\n",
              "      <td>13</td>\n",
              "      <td>Married-civ-spouse</td>\n",
              "      <td>Prof-specialty</td>\n",
              "      <td>Husband</td>\n",
              "      <td>White</td>\n",
              "      <td>Male</td>\n",
              "      <td>0</td>\n",
              "      <td>0</td>\n",
              "      <td>50</td>\n",
              "      <td>56264.55526</td>\n",
              "    </tr>\n",
              "    <tr>\n",
              "      <th>13789</th>\n",
              "      <td>44</td>\n",
              "      <td>Private</td>\n",
              "      <td>83891</td>\n",
              "      <td>Bachelors</td>\n",
              "      <td>13</td>\n",
              "      <td>Divorced</td>\n",
              "      <td>Adm-clerical</td>\n",
              "      <td>Own-child</td>\n",
              "      <td>Asian-Pac-Islander</td>\n",
              "      <td>Male</td>\n",
              "      <td>5455</td>\n",
              "      <td>0</td>\n",
              "      <td>40</td>\n",
              "      <td>18050.46818</td>\n",
              "    </tr>\n",
              "    <tr>\n",
              "      <th>13790</th>\n",
              "      <td>35</td>\n",
              "      <td>Self-emp-inc</td>\n",
              "      <td>182148</td>\n",
              "      <td>Bachelors</td>\n",
              "      <td>13</td>\n",
              "      <td>Married-civ-spouse</td>\n",
              "      <td>Exec-managerial</td>\n",
              "      <td>Husband</td>\n",
              "      <td>White</td>\n",
              "      <td>Male</td>\n",
              "      <td>0</td>\n",
              "      <td>0</td>\n",
              "      <td>60</td>\n",
              "      <td>57344.48571</td>\n",
              "    </tr>\n",
              "  </tbody>\n",
              "</table>\n",
              "</div>"
            ],
            "text/plain": [
              "       age     workclass  fnlwgt  ... capital-loss  hours-per-week        money\n",
              "13786   33       Private  245211  ...            0              40  36797.40758\n",
              "13787   39       Private  215419  ...            0              36  32324.85000\n",
              "13788   38       Private  374983  ...            0              50  56264.55526\n",
              "13789   44       Private   83891  ...            0              40  18050.46818\n",
              "13790   35  Self-emp-inc  182148  ...            0              60  57344.48571\n",
              "\n",
              "[5 rows x 14 columns]"
            ]
          },
          "metadata": {
            "tags": []
          },
          "execution_count": 56
        }
      ]
    },
    {
      "cell_type": "markdown",
      "metadata": {
        "id": "CkbdY4exwDbn"
      },
      "source": [
        "Vamos a comprobar si hay algún dato nulo"
      ]
    },
    {
      "cell_type": "code",
      "metadata": {
        "id": "Vy8_aQb6wGko",
        "colab": {
          "base_uri": "https://localhost:8080/"
        },
        "outputId": "17f406f4-f0f1-4b66-bd51-077ca3cb5147"
      },
      "source": [
        "test.isnull().values.any()"
      ],
      "execution_count": null,
      "outputs": [
        {
          "output_type": "execute_result",
          "data": {
            "text/plain": [
              "False"
            ]
          },
          "metadata": {
            "tags": []
          },
          "execution_count": 57
        }
      ]
    },
    {
      "cell_type": "code",
      "metadata": {
        "id": "96LEL-L3wzxC",
        "colab": {
          "base_uri": "https://localhost:8080/"
        },
        "outputId": "86190eb5-e8ef-48fc-a33c-fbf47e722fff"
      },
      "source": [
        "training.info()"
      ],
      "execution_count": null,
      "outputs": [
        {
          "output_type": "stream",
          "text": [
            "<class 'pandas.core.frame.DataFrame'>\n",
            "RangeIndex: 27494 entries, 0 to 27493\n",
            "Data columns (total 14 columns):\n",
            " #   Column          Non-Null Count  Dtype  \n",
            "---  ------          --------------  -----  \n",
            " 0   age             27494 non-null  int64  \n",
            " 1   workclass       27494 non-null  object \n",
            " 2   fnlwgt          27494 non-null  int64  \n",
            " 3   education       27494 non-null  object \n",
            " 4   education-num   27494 non-null  int64  \n",
            " 5   marital-status  27494 non-null  object \n",
            " 6   occupation      27494 non-null  object \n",
            " 7   relationship    27494 non-null  object \n",
            " 8   race            27494 non-null  object \n",
            " 9   sex             27494 non-null  object \n",
            " 10  capital-gain    27494 non-null  int64  \n",
            " 11  capital-loss    27494 non-null  int64  \n",
            " 12  hours-per-week  27494 non-null  int64  \n",
            " 13  money           27494 non-null  float64\n",
            "dtypes: float64(1), int64(6), object(7)\n",
            "memory usage: 2.9+ MB\n"
          ],
          "name": "stdout"
        }
      ]
    },
    {
      "cell_type": "code",
      "metadata": {
        "id": "qIMLT_98wJM3",
        "colab": {
          "base_uri": "https://localhost:8080/"
        },
        "outputId": "5b76f1f7-42bf-48af-9aa8-79aa194c031f"
      },
      "source": [
        "training.sex.nunique()"
      ],
      "execution_count": null,
      "outputs": [
        {
          "output_type": "execute_result",
          "data": {
            "text/plain": [
              "2"
            ]
          },
          "metadata": {
            "tags": []
          },
          "execution_count": 46
        }
      ]
    },
    {
      "cell_type": "code",
      "metadata": {
        "id": "ZyFvmbMVxFze",
        "colab": {
          "base_uri": "https://localhost:8080/"
        },
        "outputId": "40d8bd64-730e-4a85-a01c-137f6b7db67f"
      },
      "source": [
        "training.sex.unique()"
      ],
      "execution_count": null,
      "outputs": [
        {
          "output_type": "execute_result",
          "data": {
            "text/plain": [
              "array(['Male', 'Female'], dtype=object)"
            ]
          },
          "metadata": {
            "tags": []
          },
          "execution_count": 59
        }
      ]
    },
    {
      "cell_type": "markdown",
      "metadata": {
        "id": "qVFa9SYrwYw1"
      },
      "source": [
        "Vamos a mostrar un histograma con los datos de entrenamiento"
      ]
    },
    {
      "cell_type": "code",
      "metadata": {
        "id": "3wJapScwwS6s",
        "colab": {
          "base_uri": "https://localhost:8080/",
          "height": 452
        },
        "outputId": "348db4bc-b0b3-44b3-97a5-4712ad8d3ea4"
      },
      "source": [
        "training.hist()"
      ],
      "execution_count": null,
      "outputs": [
        {
          "output_type": "execute_result",
          "data": {
            "text/plain": [
              "array([[<matplotlib.axes._subplots.AxesSubplot object at 0x7efd76e8ad68>,\n",
              "        <matplotlib.axes._subplots.AxesSubplot object at 0x7efd771bb390>,\n",
              "        <matplotlib.axes._subplots.AxesSubplot object at 0x7efd76fd2630>],\n",
              "       [<matplotlib.axes._subplots.AxesSubplot object at 0x7efd76f22be0>,\n",
              "        <matplotlib.axes._subplots.AxesSubplot object at 0x7efd76ffdf60>,\n",
              "        <matplotlib.axes._subplots.AxesSubplot object at 0x7efd82245c18>],\n",
              "       [<matplotlib.axes._subplots.AxesSubplot object at 0x7efd76df4278>,\n",
              "        <matplotlib.axes._subplots.AxesSubplot object at 0x7efd76daa4a8>,\n",
              "        <matplotlib.axes._subplots.AxesSubplot object at 0x7efd76daa518>]],\n",
              "      dtype=object)"
            ]
          },
          "metadata": {
            "tags": []
          },
          "execution_count": 60
        },
        {
          "output_type": "display_data",
          "data": {
            "image/png": "[encoded data removed]",
            "text/plain": [
              "<Figure size 432x288 with 9 Axes>"
            ]
          },
          "metadata": {
            "tags": []
          }
        }
      ]
    },
    {
      "cell_type": "markdown",
      "metadata": {
        "id": "08x3KeimR1l5"
      },
      "source": [
        "#Análisis de datos"
      ]
    },
    {
      "cell_type": "markdown",
      "metadata": {
        "id": "D5ta267R2Sat"
      },
      "source": [
        "##Relacion entre horas trabajadas y salario"
      ]
    },
    {
      "cell_type": "code",
      "metadata": {
        "id": "Jnyse3mG2akx",
        "colab": {
          "base_uri": "https://localhost:8080/",
          "height": 477
        },
        "outputId": "1cac203a-0c85-46bf-aa3a-cc965ea5205f"
      },
      "source": [
        "# Scatter plot of Height and Weight\n",
        "\n",
        "ax1= training[training['sex']=='Male'].plot(kind='scatter', x='hours-per-week',y='money', color='blue',alpha=0.5, figsize=(10,7))\n",
        "training[training['sex']=='Female'].plot(kind='scatter', x='hours-per-week',y='money', color='magenta',alpha=0.5, figsize=(10,7),ax=ax1)\n",
        "plt.legend(labels=['Hombres','Mujeres'])\n",
        "plt.title('Relación entre horas trabajadas y salario ', size=24)\n",
        "plt.xlabel('Horas', size=18)\n",
        "plt.ylabel('Salario', size=18);"
      ],
      "execution_count": null,
      "outputs": [
        {
          "output_type": "display_data",
          "data": {
            "image/png": "[encoded data removed]",
            "text/plain": [
              "<Figure size 720x504 with 1 Axes>"
            ]
          },
          "metadata": {
            "tags": []
          }
        }
      ]
    },
    {
      "cell_type": "code",
      "metadata": {
        "id": "Ai3psadAzdyr",
        "colab": {
          "base_uri": "https://localhost:8080/",
          "height": 492
        },
        "outputId": "a1965a9e-e070-4315-ab90-10c2ae0ce5f1"
      },
      "source": [
        "import matplotlib.pyplot as plt\n",
        "plt.style.use('ggplot')\n",
        "\n",
        "# Histogram of the height\n",
        "training.age.plot(kind='hist',color='purple',edgecolor='black',figsize=(10,7))\n",
        "plt.title('Distribución de edad', size=24)\n",
        "plt.xlabel('Edad', size=18)\n",
        "plt.ylabel('Frecuencia', size=18)\n"
      ],
      "execution_count": null,
      "outputs": [
        {
          "output_type": "execute_result",
          "data": {
            "text/plain": [
              "Text(0, 0.5, 'Frecuencia')"
            ]
          },
          "metadata": {
            "tags": []
          },
          "execution_count": 63
        },
        {
          "output_type": "display_data",
          "data": {
            "image/png": "[encoded data removed]",
            "text/plain": [
              "<Figure size 720x504 with 1 Axes>"
            ]
          },
          "metadata": {
            "tags": []
          }
        }
      ]
    },
    {
      "cell_type": "markdown",
      "metadata": {
        "id": "QjuNr8850DdS"
      },
      "source": [
        "Distrubución de la edad  y género"
      ]
    },
    {
      "cell_type": "code",
      "metadata": {
        "id": "PLvBC-y30JO7",
        "colab": {
          "base_uri": "https://localhost:8080/",
          "height": 477
        },
        "outputId": "81159d12-ae4f-4f50-ae91-8a86108e8ade"
      },
      "source": [
        "training[training['sex']=='Male'].age.plot(kind='hist',color='blue',edgecolor='black',alpha=0.5,figsize=(10,7))\n",
        "training[training['sex']=='Female'].age.plot(kind='hist',color='magenta',edgecolor='black',alpha=0.5,figsize=(10,7))\n",
        "plt.legend(labels=['Hombres','Mujeres'])\n",
        "plt.title('Distribución por Edad', size=24)\n",
        "plt.xlabel('Edad', size=18)\n",
        "plt.ylabel('Frecuencia', size=18);"
      ],
      "execution_count": null,
      "outputs": [
        {
          "output_type": "display_data",
          "data": {
            "image/png": "[encoded data removed]",
            "text/plain": [
              "<Figure size 720x504 with 1 Axes>"
            ]
          },
          "metadata": {
            "tags": []
          }
        }
      ]
    },
    {
      "cell_type": "markdown",
      "metadata": {
        "id": "GIJqO2bd1jjk"
      },
      "source": [
        "Los gráficos anteriores muestran la edad  para hombres y mujeres. Aunque el promedio de ambas distribuciones es mayor para los hombres, las distribuciones es similar para ambos géneros. Pandas proporciona un método llamado describir para describir las  estadísticas (tendencia central, dispersión y forma).\n"
      ]
    },
    {
      "cell_type": "code",
      "metadata": {
        "id": "OjJgsOgZ1-Sz",
        "colab": {
          "base_uri": "https://localhost:8080/",
          "height": 334
        },
        "outputId": "c21234c8-2f5c-408b-f2d3-ae9e9470f99e"
      },
      "source": [
        "# Descriptive statistics male\n",
        "statistics_male = training[training['sex']=='Male'].describe()\n",
        "statistics_male.rename(columns=lambda x:x+'_male',inplace=True)\n",
        "\n",
        "# Descriptive statistics female\n",
        "statistics_female = training[training['sex']=='Female'].describe()\n",
        "statistics_female.rename(columns=lambda x:x+'_female',inplace=True)\n",
        "\n",
        "# Dataframe that contains statistics for both male and female\n",
        "statistics = pd.concat([statistics_male,statistics_female], axis=1)\n",
        "statistics"
      ],
      "execution_count": null,
      "outputs": [
        {
          "output_type": "execute_result",
          "data": {
            "text/html": [
              "<div>\n",
              "<style scoped>\n",
              "    .dataframe tbody tr th:only-of-type {\n",
              "        vertical-align: middle;\n",
              "    }\n",
              "\n",
              "    .dataframe tbody tr th {\n",
              "        vertical-align: top;\n",
              "    }\n",
              "\n",
              "    .dataframe thead th {\n",
              "        text-align: right;\n",
              "    }\n",
              "</style>\n",
              "<table border=\"1\" class=\"dataframe\">\n",
              "  <thead>\n",
              "    <tr style=\"text-align: right;\">\n",
              "      <th></th>\n",
              "      <th>age_male</th>\n",
              "      <th>fnlwgt_male</th>\n",
              "      <th>education-num_male</th>\n",
              "      <th>capital-gain_male</th>\n",
              "      <th>capital-loss_male</th>\n",
              "      <th>hours-per-week_male</th>\n",
              "      <th>money_male</th>\n",
              "      <th>age_female</th>\n",
              "      <th>fnlwgt_female</th>\n",
              "      <th>education-num_female</th>\n",
              "      <th>capital-gain_female</th>\n",
              "      <th>capital-loss_female</th>\n",
              "      <th>hours-per-week_female</th>\n",
              "      <th>money_female</th>\n",
              "    </tr>\n",
              "  </thead>\n",
              "  <tbody>\n",
              "    <tr>\n",
              "      <th>count</th>\n",
              "      <td>18566.000000</td>\n",
              "      <td>1.856600e+04</td>\n",
              "      <td>18566.000000</td>\n",
              "      <td>18566.000000</td>\n",
              "      <td>18566.000000</td>\n",
              "      <td>18566.000000</td>\n",
              "      <td>18566.000000</td>\n",
              "      <td>8928.000000</td>\n",
              "      <td>8.928000e+03</td>\n",
              "      <td>8928.000000</td>\n",
              "      <td>8928.000000</td>\n",
              "      <td>8928.000000</td>\n",
              "      <td>8928.000000</td>\n",
              "      <td>8928.000000</td>\n",
              "    </tr>\n",
              "    <tr>\n",
              "      <th>mean</th>\n",
              "      <td>39.325110</td>\n",
              "      <td>1.883506e+05</td>\n",
              "      <td>10.235969</td>\n",
              "      <td>1379.687278</td>\n",
              "      <td>103.239308</td>\n",
              "      <td>42.944361</td>\n",
              "      <td>39289.601927</td>\n",
              "      <td>36.788754</td>\n",
              "      <td>1.844364e+05</td>\n",
              "      <td>10.192540</td>\n",
              "      <td>582.767921</td>\n",
              "      <td>63.409498</td>\n",
              "      <td>36.871976</td>\n",
              "      <td>31700.564173</td>\n",
              "    </tr>\n",
              "    <tr>\n",
              "      <th>std</th>\n",
              "      <td>12.909876</td>\n",
              "      <td>1.055574e+05</td>\n",
              "      <td>2.449459</td>\n",
              "      <td>8469.768497</td>\n",
              "      <td>435.234166</td>\n",
              "      <td>11.814646</td>\n",
              "      <td>23825.678773</td>\n",
              "      <td>13.573913</td>\n",
              "      <td>1.029364e+05</td>\n",
              "      <td>2.226656</td>\n",
              "      <td>4910.211267</td>\n",
              "      <td>344.980513</td>\n",
              "      <td>11.460437</td>\n",
              "      <td>19461.496615</td>\n",
              "    </tr>\n",
              "    <tr>\n",
              "      <th>min</th>\n",
              "      <td>17.000000</td>\n",
              "      <td>1.376900e+04</td>\n",
              "      <td>1.000000</td>\n",
              "      <td>0.000000</td>\n",
              "      <td>0.000000</td>\n",
              "      <td>1.000000</td>\n",
              "      <td>2078.393478</td>\n",
              "      <td>17.000000</td>\n",
              "      <td>1.939500e+04</td>\n",
              "      <td>1.000000</td>\n",
              "      <td>0.000000</td>\n",
              "      <td>0.000000</td>\n",
              "      <td>1.000000</td>\n",
              "      <td>2922.212963</td>\n",
              "    </tr>\n",
              "    <tr>\n",
              "      <th>25%</th>\n",
              "      <td>29.000000</td>\n",
              "      <td>1.158840e+05</td>\n",
              "      <td>9.000000</td>\n",
              "      <td>0.000000</td>\n",
              "      <td>0.000000</td>\n",
              "      <td>40.000000</td>\n",
              "      <td>22416.775165</td>\n",
              "      <td>25.000000</td>\n",
              "      <td>1.158858e+05</td>\n",
              "      <td>9.000000</td>\n",
              "      <td>0.000000</td>\n",
              "      <td>0.000000</td>\n",
              "      <td>32.000000</td>\n",
              "      <td>18539.416270</td>\n",
              "    </tr>\n",
              "    <tr>\n",
              "      <th>50%</th>\n",
              "      <td>38.000000</td>\n",
              "      <td>1.776490e+05</td>\n",
              "      <td>10.000000</td>\n",
              "      <td>0.000000</td>\n",
              "      <td>0.000000</td>\n",
              "      <td>40.000000</td>\n",
              "      <td>34809.417855</td>\n",
              "      <td>35.000000</td>\n",
              "      <td>1.756000e+05</td>\n",
              "      <td>10.000000</td>\n",
              "      <td>0.000000</td>\n",
              "      <td>0.000000</td>\n",
              "      <td>40.000000</td>\n",
              "      <td>28162.957145</td>\n",
              "    </tr>\n",
              "    <tr>\n",
              "      <th>75%</th>\n",
              "      <td>48.000000</td>\n",
              "      <td>2.366960e+05</td>\n",
              "      <td>13.000000</td>\n",
              "      <td>0.000000</td>\n",
              "      <td>0.000000</td>\n",
              "      <td>50.000000</td>\n",
              "      <td>54004.813587</td>\n",
              "      <td>46.000000</td>\n",
              "      <td>2.274252e+05</td>\n",
              "      <td>12.000000</td>\n",
              "      <td>0.000000</td>\n",
              "      <td>0.000000</td>\n",
              "      <td>40.000000</td>\n",
              "      <td>40564.919520</td>\n",
              "    </tr>\n",
              "    <tr>\n",
              "      <th>max</th>\n",
              "      <td>90.000000</td>\n",
              "      <td>1.455435e+06</td>\n",
              "      <td>16.000000</td>\n",
              "      <td>99999.000000</td>\n",
              "      <td>3770.000000</td>\n",
              "      <td>99.000000</td>\n",
              "      <td>218327.557700</td>\n",
              "      <td>90.000000</td>\n",
              "      <td>1.484705e+06</td>\n",
              "      <td>16.000000</td>\n",
              "      <td>99999.000000</td>\n",
              "      <td>4356.000000</td>\n",
              "      <td>99.000000</td>\n",
              "      <td>222715.750000</td>\n",
              "    </tr>\n",
              "  </tbody>\n",
              "</table>\n",
              "</div>"
            ],
            "text/plain": [
              "           age_male   fnlwgt_male  ...  hours-per-week_female   money_female\n",
              "count  18566.000000  1.856600e+04  ...            8928.000000    8928.000000\n",
              "mean      39.325110  1.883506e+05  ...              36.871976   31700.564173\n",
              "std       12.909876  1.055574e+05  ...              11.460437   19461.496615\n",
              "min       17.000000  1.376900e+04  ...               1.000000    2922.212963\n",
              "25%       29.000000  1.158840e+05  ...              32.000000   18539.416270\n",
              "50%       38.000000  1.776490e+05  ...              40.000000   28162.957145\n",
              "75%       48.000000  2.366960e+05  ...              40.000000   40564.919520\n",
              "max       90.000000  1.455435e+06  ...              99.000000  222715.750000\n",
              "\n",
              "[8 rows x 14 columns]"
            ]
          },
          "metadata": {
            "tags": []
          },
          "execution_count": 65
        }
      ]
    },
    {
      "cell_type": "markdown",
      "metadata": {
        "id": "27kS86K7MJ0v"
      },
      "source": [
        "##Relación entre edad y salario"
      ]
    },
    {
      "cell_type": "code",
      "metadata": {
        "id": "owhzQuyLMbMn",
        "colab": {
          "base_uri": "https://localhost:8080/",
          "height": 471
        },
        "outputId": "18268236-e7fe-409c-d3aa-52046be0e80b"
      },
      "source": [
        "#Scatter plot of 500 females\n",
        "\n",
        "sample_females = training[training['sex']=='Female'].sample(100)\n",
        "sample_females.plot(kind='scatter', x='age',y='money', color='magenta',alpha=0.5, figsize=(10,7))\n",
        "plt.legend(labels=['Mujeres'])\n",
        "plt.title('Relacion entre edad y salario (100 ejemplos)', size=20)\n",
        "plt.xlabel('Edad', size=18)\n",
        "plt.ylabel('Salario', size=18);"
      ],
      "execution_count": null,
      "outputs": [
        {
          "output_type": "display_data",
          "data": {
            "image/png": "[encoded data removed]",
            "text/plain": [
              "<Figure size 720x504 with 1 Axes>"
            ]
          },
          "metadata": {
            "tags": []
          }
        }
      ]
    },
    {
      "cell_type": "markdown",
      "metadata": {
        "id": "_44ZbKf1K8Uz"
      },
      "source": [
        "Vamos a predecir con una regresión lineal el salario con el atributo de la edad.\n",
        "Además esto lo vamos a dividir por género para ver la brecha salarial de nuestro conjunto de datos"
      ]
    },
    {
      "cell_type": "code",
      "metadata": {
        "id": "fUsVcu3vYZ8b"
      },
      "source": [
        "# Hombres y mujeres dataframes.\n",
        "\n",
        "df_males = training[training['sex']=='Male']\n",
        "df_females = training[training['sex']=='Female']\n",
        "\n",
        "hombres_1 = LinearRegression()\n",
        "\n",
        "mujeres_1 = LinearRegression()\n",
        "\n",
        "li = np.array(df_males.age)\n",
        "li = li.reshape(-1, 1)\n",
        "hombres_1.fit(li,df_males.money)\n",
        "h_1 = hombres_1.predict(li)\n",
        "\n",
        "\n",
        "mi = np.array(df_females.age)\n",
        "mi = mi.reshape(-1, 1)\n",
        "mujeres_1.fit(mi,df_females.money)\n",
        "m_1 = mujeres_1.predict(mi)"
      ],
      "execution_count": null,
      "outputs": []
    },
    {
      "cell_type": "code",
      "metadata": {
        "id": "-Cz2Z_zkOb_9",
        "colab": {
          "base_uri": "https://localhost:8080/",
          "height": 314
        },
        "outputId": "220c8294-ebbf-4c6b-87e0-cd9a133cc008"
      },
      "source": [
        "#Scatter plots and regression lines.\n",
        "\n",
        "\n",
        "# Scatter plots.\n",
        "ax1= df_males.plot(kind='scatter', x='age',y='money', color='blue')\n",
        "df_females.plot(kind='scatter', x='age',y='money', color='magenta',ax=ax1)\n",
        "\n",
        "# Regression lines.\n",
        "plt.plot(df_males.age,h_1, color='darkblue', linewidth=2)\n",
        "plt.plot(df_females.age,m_1, color='deeppink', linewidth=2)\n",
        "\n",
        "# Regression equations.\n",
        "#plt.text(65,230,'y={:.2f}+{:.2f}*x'.format(male_fit[1],male_fit[0]),color='darkblue',size=12)\n",
        "##plt.text(70,130,'y={:.2f}+{:.2f}*x'.format(female_fit[1],female_fit[0]),color='deeppink',size=12)\n",
        "\n",
        "# Legend, title and labels.\n",
        "plt.legend(labels=['Recta regresión Hombres','Recta regresión Mujeres', 'Hombres','Mujeres'])\n",
        "plt.title('Relación entre edad y salario', size=24)\n",
        "plt.xlabel('Edad (años)', size=18)\n",
        "plt.ylabel('Salario (dolares)', size=18);"
      ],
      "execution_count": null,
      "outputs": [
        {
          "output_type": "display_data",
          "data": {
            "image/png": "[encoded data removed]",
            "text/plain": [
              "<Figure size 432x288 with 1 Axes>"
            ]
          },
          "metadata": {
            "tags": []
          }
        }
      ]
    },
    {
      "cell_type": "markdown",
      "metadata": {
        "id": "IbQ_L7QWPEQx"
      },
      "source": [
        "#Páginas Webs\n",
        "\n",
        "\n",
        "1.   https://www.statsmodels.org/stable/api.html\n",
        "2. https://towardsdatascience.com/simple-and-multiple-linear-regression-with-python-c9ab422ec29c\n",
        "\n",
        "3. https://riptutorial.com/es/machine-learning/topic/6156/scikit-learn\n"
      ]
    }
  ]
}