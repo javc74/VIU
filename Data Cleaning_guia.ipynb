{
  "nbformat": 4,
  "nbformat_minor": 0,
  "metadata": {
    "colab": {
      "name": "DataCleaning.ipynb",
      "provenance": [],
      "toc_visible": true
    },
    "kernelspec": {
      "name": "python3",
      "display_name": "Python 3"
    }
  },
  "cells": [
    {
      "cell_type": "markdown",
      "metadata": {
        "id": "N_ssaYOxzyZQ"
      },
      "source": [
        "# Entender el objetivo y el dataset"
      ]
    },
    {
      "cell_type": "markdown",
      "metadata": {
        "id": "GgrROMkZwq0i"
      },
      "source": [
        "**Algunos pasos utiles para la limpieza de datos**"
      ]
    },
    {
      "cell_type": "markdown",
      "metadata": {
        "id": "NpGNe6p4wKiz"
      },
      "source": [
        "\n",
        "Antes de usar algún algoritmo de aprendizaje automático o un modelo estadístico, siempre tenemos que limpiar los datos.\n",
        " Ningún modelo crea resultados significativos con datos \"sucios\".\n",
        "La limpieza o depuración de datos es el proceso de detectar y corregir (o eliminar) registros corruptos o inexactos de un conjunto de registros, tabla o base de datos y se refiere a la identificación de partes incompletas, incorrectas, inexactas o irrelevantes de los datos y luego reemplazar, modificar o eliminar los datos sucios.\n",
        "\n",
        " Ciertamente esta parte no es muy divertida y requiere mucho tiempo.\n"
      ]
    },
    {
      "cell_type": "markdown",
      "metadata": {
        "id": "OIkQEm-jwyVo"
      },
      "source": [
        "Vamos a usar  el conjunto de datos de viviendas rusas de Kaggle. El objetivo de este proyecto es predecir las fluctuaciones de los precios de las viviendas en Rusia. No estamos limpiando todo el conjunto de datos, pero mostraremos ejemplos de ello.\n",
        "Antes de entrar en el proceso de limpieza, echemos un breve vistazo a los datos.\n",
        "\n",
        "[Link](https://www.kaggle.com/c/sberbank-russian-housing-market/overview/description)"
      ]
    },
    {
      "cell_type": "code",
      "metadata": {
        "id": "DK9n4g18wE3U"
      },
      "source": [
        "# import packages\n",
        "import pandas as pd\n",
        "import numpy as np\n",
        "import seaborn as sns\n",
        "\n",
        "import matplotlib.pyplot as plt\n",
        "import matplotlib.mlab as mlab\n",
        "import matplotlib\n",
        "plt.style.use('ggplot')\n",
        "from matplotlib.pyplot import figure\n",
        "\n",
        "%matplotlib inline\n",
        "matplotlib.rcParams['figure.figsize'] = (12,8)\n",
        "\n",
        "pd.options.mode.chained_assignment = None\n"
      ],
      "execution_count": 1,
      "outputs": []
    },
    {
      "cell_type": "markdown",
      "metadata": {
        "id": "DrHVXLxPNHeM"
      },
      "source": [
        "# Informacion adicional\n",
        "\n",
        "https://realpython.com/python-data-cleaning-numpy-pandas/\n",
        "\n"
      ]
    },
    {
      "cell_type": "markdown",
      "metadata": {
        "id": "HCracfLSxLyj"
      },
      "source": [
        "Leemos el fichero de fuente de datos, que previamente hemos importado al libro"
      ]
    },
    {
      "cell_type": "code",
      "metadata": {
        "id": "QMbq7LOCxRPt"
      },
      "source": [
        "# read the data\n",
        "df = pd.read_csv('train.csv')\n"
      ],
      "execution_count": 32,
      "outputs": []
    },
    {
      "cell_type": "markdown",
      "metadata": {
        "id": "f-xJxyJex6L2"
      },
      "source": [
        "Comprobamos los tipos y la cantidad de instacias que tenemos"
      ]
    },
    {
      "cell_type": "code",
      "metadata": {
        "colab": {
          "base_uri": "https://localhost:8080/"
        },
        "id": "JmU3OYVFx-T5",
        "outputId": "9f96ba40-ea06-4739-b3e0-fc8b7e7f7d04"
      },
      "source": [
        "# shape and data types of the data\n",
        "print(df.shape)\n",
        "print(df.dtypes)"
      ],
      "execution_count": 3,
      "outputs": [
        {
          "output_type": "stream",
          "text": [
            "(30471, 292)\n",
            "id                      int64\n",
            "timestamp              object\n",
            "full_sq                 int64\n",
            "life_sq               float64\n",
            "floor                 float64\n",
            "                       ...   \n",
            "mosque_count_5000       int64\n",
            "leisure_count_5000      int64\n",
            "sport_count_5000        int64\n",
            "market_count_5000       int64\n",
            "price_doc               int64\n",
            "Length: 292, dtype: object\n"
          ],
          "name": "stdout"
        }
      ]
    },
    {
      "cell_type": "markdown",
      "metadata": {
        "id": "hZONR0JHyAay"
      },
      "source": [
        "Comprobamos de todas las variables, que subconjunto son númericas. (Potencialmente no tenemos que cambiar nada de ellas)"
      ]
    },
    {
      "cell_type": "code",
      "metadata": {
        "colab": {
          "base_uri": "https://localhost:8080/"
        },
        "id": "w03fWcWVyCss",
        "outputId": "3a0d498a-4032-4550-8775-c91ff8c60d3c"
      },
      "source": [
        "df_numeric = df.select_dtypes(include=[np.number])\n",
        "numeric_cols = df_numeric.columns.values\n",
        "print(numeric_cols)"
      ],
      "execution_count": 4,
      "outputs": [
        {
          "output_type": "stream",
          "text": [
            "['id' 'full_sq' 'life_sq' 'floor' 'max_floor' 'material' 'build_year'\n",
            " 'num_room' 'kitch_sq' 'state' 'area_m' 'raion_popul' 'green_zone_part'\n",
            " 'indust_part' 'children_preschool' 'preschool_quota'\n",
            " 'preschool_education_centers_raion' 'children_school' 'school_quota'\n",
            " 'school_education_centers_raion' 'school_education_centers_top_20_raion'\n",
            " 'hospital_beds_raion' 'healthcare_centers_raion'\n",
            " 'university_top_20_raion' 'sport_objects_raion'\n",
            " 'additional_education_raion' 'culture_objects_top_25_raion'\n",
            " 'shopping_centers_raion' 'office_raion' 'full_all' 'male_f' 'female_f'\n",
            " 'young_all' 'young_male' 'young_female' 'work_all' 'work_male'\n",
            " 'work_female' 'ekder_all' 'ekder_male' 'ekder_female' '0_6_all'\n",
            " '0_6_male' '0_6_female' '7_14_all' '7_14_male' '7_14_female' '0_17_all'\n",
            " '0_17_male' '0_17_female' '16_29_all' '16_29_male' '16_29_female'\n",
            " '0_13_all' '0_13_male' '0_13_female'\n",
            " 'raion_build_count_with_material_info' 'build_count_block'\n",
            " 'build_count_wood' 'build_count_frame' 'build_count_brick'\n",
            " 'build_count_monolith' 'build_count_panel' 'build_count_foam'\n",
            " 'build_count_slag' 'build_count_mix'\n",
            " 'raion_build_count_with_builddate_info' 'build_count_before_1920'\n",
            " 'build_count_1921-1945' 'build_count_1946-1970' 'build_count_1971-1995'\n",
            " 'build_count_after_1995' 'ID_metro' 'metro_min_avto' 'metro_km_avto'\n",
            " 'metro_min_walk' 'metro_km_walk' 'kindergarten_km' 'school_km' 'park_km'\n",
            " 'green_zone_km' 'industrial_km' 'water_treatment_km' 'cemetery_km'\n",
            " 'incineration_km' 'railroad_station_walk_km' 'railroad_station_walk_min'\n",
            " 'ID_railroad_station_walk' 'railroad_station_avto_km'\n",
            " 'railroad_station_avto_min' 'ID_railroad_station_avto'\n",
            " 'public_transport_station_km' 'public_transport_station_min_walk'\n",
            " 'water_km' 'mkad_km' 'ttk_km' 'sadovoe_km' 'bulvar_ring_km' 'kremlin_km'\n",
            " 'big_road1_km' 'ID_big_road1' 'big_road2_km' 'ID_big_road2' 'railroad_km'\n",
            " 'zd_vokzaly_avto_km' 'ID_railroad_terminal' 'bus_terminal_avto_km'\n",
            " 'ID_bus_terminal' 'oil_chemistry_km' 'nuclear_reactor_km' 'radiation_km'\n",
            " 'power_transmission_line_km' 'thermal_power_plant_km' 'ts_km'\n",
            " 'big_market_km' 'market_shop_km' 'fitness_km' 'swim_pool_km'\n",
            " 'ice_rink_km' 'stadium_km' 'basketball_km' 'hospice_morgue_km'\n",
            " 'detention_facility_km' 'public_healthcare_km' 'university_km'\n",
            " 'workplaces_km' 'shopping_centers_km' 'office_km'\n",
            " 'additional_education_km' 'preschool_km' 'big_church_km'\n",
            " 'church_synagogue_km' 'mosque_km' 'theater_km' 'museum_km'\n",
            " 'exhibition_km' 'catering_km' 'green_part_500' 'prom_part_500'\n",
            " 'office_count_500' 'office_sqm_500' 'trc_count_500' 'trc_sqm_500'\n",
            " 'cafe_count_500' 'cafe_sum_500_min_price_avg'\n",
            " 'cafe_sum_500_max_price_avg' 'cafe_avg_price_500'\n",
            " 'cafe_count_500_na_price' 'cafe_count_500_price_500'\n",
            " 'cafe_count_500_price_1000' 'cafe_count_500_price_1500'\n",
            " 'cafe_count_500_price_2500' 'cafe_count_500_price_4000'\n",
            " 'cafe_count_500_price_high' 'big_church_count_500' 'church_count_500'\n",
            " 'mosque_count_500' 'leisure_count_500' 'sport_count_500'\n",
            " 'market_count_500' 'green_part_1000' 'prom_part_1000' 'office_count_1000'\n",
            " 'office_sqm_1000' 'trc_count_1000' 'trc_sqm_1000' 'cafe_count_1000'\n",
            " 'cafe_sum_1000_min_price_avg' 'cafe_sum_1000_max_price_avg'\n",
            " 'cafe_avg_price_1000' 'cafe_count_1000_na_price'\n",
            " 'cafe_count_1000_price_500' 'cafe_count_1000_price_1000'\n",
            " 'cafe_count_1000_price_1500' 'cafe_count_1000_price_2500'\n",
            " 'cafe_count_1000_price_4000' 'cafe_count_1000_price_high'\n",
            " 'big_church_count_1000' 'church_count_1000' 'mosque_count_1000'\n",
            " 'leisure_count_1000' 'sport_count_1000' 'market_count_1000'\n",
            " 'green_part_1500' 'prom_part_1500' 'office_count_1500' 'office_sqm_1500'\n",
            " 'trc_count_1500' 'trc_sqm_1500' 'cafe_count_1500'\n",
            " 'cafe_sum_1500_min_price_avg' 'cafe_sum_1500_max_price_avg'\n",
            " 'cafe_avg_price_1500' 'cafe_count_1500_na_price'\n",
            " 'cafe_count_1500_price_500' 'cafe_count_1500_price_1000'\n",
            " 'cafe_count_1500_price_1500' 'cafe_count_1500_price_2500'\n",
            " 'cafe_count_1500_price_4000' 'cafe_count_1500_price_high'\n",
            " 'big_church_count_1500' 'church_count_1500' 'mosque_count_1500'\n",
            " 'leisure_count_1500' 'sport_count_1500' 'market_count_1500'\n",
            " 'green_part_2000' 'prom_part_2000' 'office_count_2000' 'office_sqm_2000'\n",
            " 'trc_count_2000' 'trc_sqm_2000' 'cafe_count_2000'\n",
            " 'cafe_sum_2000_min_price_avg' 'cafe_sum_2000_max_price_avg'\n",
            " 'cafe_avg_price_2000' 'cafe_count_2000_na_price'\n",
            " 'cafe_count_2000_price_500' 'cafe_count_2000_price_1000'\n",
            " 'cafe_count_2000_price_1500' 'cafe_count_2000_price_2500'\n",
            " 'cafe_count_2000_price_4000' 'cafe_count_2000_price_high'\n",
            " 'big_church_count_2000' 'church_count_2000' 'mosque_count_2000'\n",
            " 'leisure_count_2000' 'sport_count_2000' 'market_count_2000'\n",
            " 'green_part_3000' 'prom_part_3000' 'office_count_3000' 'office_sqm_3000'\n",
            " 'trc_count_3000' 'trc_sqm_3000' 'cafe_count_3000'\n",
            " 'cafe_sum_3000_min_price_avg' 'cafe_sum_3000_max_price_avg'\n",
            " 'cafe_avg_price_3000' 'cafe_count_3000_na_price'\n",
            " 'cafe_count_3000_price_500' 'cafe_count_3000_price_1000'\n",
            " 'cafe_count_3000_price_1500' 'cafe_count_3000_price_2500'\n",
            " 'cafe_count_3000_price_4000' 'cafe_count_3000_price_high'\n",
            " 'big_church_count_3000' 'church_count_3000' 'mosque_count_3000'\n",
            " 'leisure_count_3000' 'sport_count_3000' 'market_count_3000'\n",
            " 'green_part_5000' 'prom_part_5000' 'office_count_5000' 'office_sqm_5000'\n",
            " 'trc_count_5000' 'trc_sqm_5000' 'cafe_count_5000'\n",
            " 'cafe_sum_5000_min_price_avg' 'cafe_sum_5000_max_price_avg'\n",
            " 'cafe_avg_price_5000' 'cafe_count_5000_na_price'\n",
            " 'cafe_count_5000_price_500' 'cafe_count_5000_price_1000'\n",
            " 'cafe_count_5000_price_1500' 'cafe_count_5000_price_2500'\n",
            " 'cafe_count_5000_price_4000' 'cafe_count_5000_price_high'\n",
            " 'big_church_count_5000' 'church_count_5000' 'mosque_count_5000'\n",
            " 'leisure_count_5000' 'sport_count_5000' 'market_count_5000' 'price_doc']\n"
          ],
          "name": "stdout"
        }
      ]
    },
    {
      "cell_type": "markdown",
      "metadata": {
        "id": "PeLjBeO7yOSn"
      },
      "source": [
        "Hacemos lo mismo con las variables que no son númericas"
      ]
    },
    {
      "cell_type": "code",
      "metadata": {
        "colab": {
          "base_uri": "https://localhost:8080/"
        },
        "id": "yvWXAs9DyTti",
        "outputId": "192f4d7a-7cd4-454e-e84f-b94d0461970c"
      },
      "source": [
        "# select non numeric columns\n",
        "df_non_numeric = df.select_dtypes(exclude=[np.number])\n",
        "non_numeric_cols = df_non_numeric.columns.values\n",
        "print(non_numeric_cols)\n"
      ],
      "execution_count": 5,
      "outputs": [
        {
          "output_type": "stream",
          "text": [
            "['timestamp' 'product_type' 'sub_area' 'culture_objects_top_25'\n",
            " 'thermal_power_plant_raion' 'incineration_raion' 'oil_chemistry_raion'\n",
            " 'radiation_raion' 'railroad_terminal_raion' 'big_market_raion'\n",
            " 'nuclear_reactor_raion' 'detention_facility_raion' 'water_1line'\n",
            " 'big_road1_1line' 'railroad_1line' 'ecology']\n"
          ],
          "name": "stdout"
        }
      ]
    },
    {
      "cell_type": "markdown",
      "metadata": {
        "id": "l3m-Yyglyo3s"
      },
      "source": [
        "De estos resultados, aprendemos que el conjunto de datos tiene **30.471** filas y **292** columnas. También identificamos si las características son variables numéricas o categóricas. Todas ellas son información útil.\n",
        "Ahora podemos revisar la lista de tipos de datos \"sucios\" y arreglarlos uno por uno.\n",
        "\n"
      ]
    },
    {
      "cell_type": "code",
      "metadata": {
        "id": "GXhqLjUPJmeK"
      },
      "source": [
        ""
      ],
      "execution_count": null,
      "outputs": []
    },
    {
      "cell_type": "markdown",
      "metadata": {
        "id": "e7GXaNkmy94Q"
      },
      "source": [
        "**¿LA CLASE  ES UN ATRIBUTO DE ENTRADA?** \n",
        "\n",
        "OBVIAMENTE NO, con lo que tenemos 292 atributos, con lo que la variable *price_doc* es la variable de salida. \n",
        "\n",
        "**¿Nos tenemos que preocupar de los datos de test?**\n",
        "\n",
        "Tenemos que asegurarnos que tienen las mismas variables y mismos tipos, si hemos trabajado con un dataset no propio \n"
      ]
    },
    {
      "cell_type": "code",
      "metadata": {
        "colab": {
          "base_uri": "https://localhost:8080/"
        },
        "id": "_LP4LJGfzjSV",
        "outputId": "1353d815-257b-4ffe-9409-00c6b014cf6b"
      },
      "source": [
        "# read the data\n",
        "df2 = pd.read_csv('test.csv')\n",
        "print(df2.shape)\n",
        "print(df2.dtypes)\n"
      ],
      "execution_count": 6,
      "outputs": [
        {
          "output_type": "stream",
          "text": [
            "(7662, 291)\n",
            "id                      int64\n",
            "timestamp              object\n",
            "full_sq               float64\n",
            "life_sq               float64\n",
            "floor                   int64\n",
            "                       ...   \n",
            "church_count_5000       int64\n",
            "mosque_count_5000       int64\n",
            "leisure_count_5000      int64\n",
            "sport_count_5000        int64\n",
            "market_count_5000       int64\n",
            "Length: 291, dtype: object\n"
          ],
          "name": "stdout"
        }
      ]
    },
    {
      "cell_type": "markdown",
      "metadata": {
        "id": "RLHKPfNK0RLq"
      },
      "source": [
        "Estoy viendo que los datos de test, les falta un atributo ¿es correcto? Claro, porque se trata de la clase de salida, aun eso no he comprobado si todas las variables son iguales (nombre de los atributos)"
      ]
    },
    {
      "cell_type": "markdown",
      "metadata": {
        "id": "cpELLIqCzzV7"
      },
      "source": [
        "\n",
        "\n",
        "# Missing values"
      ]
    },
    {
      "cell_type": "markdown",
      "metadata": {
        "id": "R4DaKYF40he7"
      },
      "source": [
        "Tratar con datos/valores perdidos es una de las partes más difíciles pero comunes de la limpieza de datos. \n",
        "Mientras que muchos modelos pueden vivir con otros problemas de los datos, la mayoría de los modelos no aceptan datos faltantes."
      ]
    },
    {
      "cell_type": "markdown",
      "metadata": {
        "id": "07As1t_K0vDN"
      },
      "source": [
        "**¿Cómo averiguarlo?**\n",
        "\n",
        "\n",
        "Cubrimos tres técnicas para aprender más sobre los datos que faltan en nuestro conjunto de datos."
      ]
    },
    {
      "cell_type": "markdown",
      "metadata": {
        "id": "TZo_PHie0xhZ"
      },
      "source": [
        "## Missing Data Heatmap\n",
        "Cuando hay un número menor de características, podemos visualizar los datos que faltan a través del mapa de calor."
      ]
    },
    {
      "cell_type": "code",
      "metadata": {
        "colab": {
          "base_uri": "https://localhost:8080/",
          "height": 436
        },
        "id": "u3AAS52s05tS",
        "outputId": "2d91610d-a598-4a16-b8df-fa25664d64f6"
      },
      "source": [
        "cols = df.columns[:30] # first 30 columns\n",
        "colours = ['#000099', '#ffff00'] # specify the colours - yellow is missing. blue is not missing.\n",
        "sns.heatmap(df[cols].isnull(), cmap=sns.color_palette(colours))"
      ],
      "execution_count": 9,
      "outputs": [
        {
          "output_type": "execute_result",
          "data": {
            "text/plain": [
              "<matplotlib.axes._subplots.AxesSubplot at 0x7f4f2d424d90>"
            ]
          },
          "metadata": {
            "tags": []
          },
          "execution_count": 9
        },
        {
          "output_type": "display_data",
          "data": {
            "image/png": "[encoded data removed]",
            "text/plain": [
              "<Figure size 432x288 with 2 Axes>"
            ]
          },
          "metadata": {
            "tags": [],
            "needs_background": "light"
          }
        }
      ]
    },
    {
      "cell_type": "markdown",
      "metadata": {
        "id": "It_6EjWQ1DjE"
      },
      "source": [
        "El gráfico que figura  muestra los patrones de datos que faltan de las primeras 30 características. \n",
        "El eje horizontal muestra el nombre del atributo de entrada; el eje vertical muestra el número de observaciones/filas; el color amarillo representa los datos que faltan, mientras que el color azul, en caso contrario.\n",
        "Por ejemplo, vemos que la característica *life_sq* tiene valores perdidos en muchas filas. Mientras que la característica *floor* sólo tiene pequeños valores perdidos alrededor de la fila 7000.\n",
        "\n"
      ]
    },
    {
      "cell_type": "markdown",
      "metadata": {
        "id": "QT777txB1at1"
      },
      "source": [
        "## Missing Data Percentage List\n",
        "Cuando hay muchas características en el conjunto de datos, podemos hacer una lista de los % de datos que faltan para cada característica.\n",
        "\n",
        "Puede ser mucho más útil que el anterior cuando tienes muchas características y muchos valores"
      ]
    },
    {
      "cell_type": "code",
      "metadata": {
        "colab": {
          "base_uri": "https://localhost:8080/"
        },
        "id": "CTvkUXS31pd3",
        "outputId": "6e7f0934-66b0-44f2-8374-601ae3942580"
      },
      "source": [
        "# if it's a larger dataset and the visualization takes too long can do this.\n",
        "# % of missing.\n",
        "for col in df.columns:\n",
        "    pct_missing = np.mean(df[col].isnull())\n",
        "    print('{} - {}%'.format(col, round(pct_missing*100)))\n"
      ],
      "execution_count": 10,
      "outputs": [
        {
          "output_type": "stream",
          "text": [
            "id - 0%\n",
            "timestamp - 0%\n",
            "full_sq - 0%\n",
            "life_sq - 21%\n",
            "floor - 1%\n",
            "max_floor - 31%\n",
            "material - 31%\n",
            "build_year - 45%\n",
            "num_room - 31%\n",
            "kitch_sq - 31%\n",
            "state - 44%\n",
            "product_type - 0%\n",
            "sub_area - 0%\n",
            "area_m - 0%\n",
            "raion_popul - 0%\n",
            "green_zone_part - 0%\n",
            "indust_part - 0%\n",
            "children_preschool - 0%\n",
            "preschool_quota - 22%\n",
            "preschool_education_centers_raion - 0%\n",
            "children_school - 0%\n",
            "school_quota - 22%\n",
            "school_education_centers_raion - 0%\n",
            "school_education_centers_top_20_raion - 0%\n",
            "hospital_beds_raion - 47%\n",
            "healthcare_centers_raion - 0%\n",
            "university_top_20_raion - 0%\n",
            "sport_objects_raion - 0%\n",
            "additional_education_raion - 0%\n",
            "culture_objects_top_25 - 0%\n",
            "culture_objects_top_25_raion - 0%\n",
            "shopping_centers_raion - 0%\n",
            "office_raion - 0%\n",
            "thermal_power_plant_raion - 0%\n",
            "incineration_raion - 0%\n",
            "oil_chemistry_raion - 0%\n",
            "radiation_raion - 0%\n",
            "railroad_terminal_raion - 0%\n",
            "big_market_raion - 0%\n",
            "nuclear_reactor_raion - 0%\n",
            "detention_facility_raion - 0%\n",
            "full_all - 0%\n",
            "male_f - 0%\n",
            "female_f - 0%\n",
            "young_all - 0%\n",
            "young_male - 0%\n",
            "young_female - 0%\n",
            "work_all - 0%\n",
            "work_male - 0%\n",
            "work_female - 0%\n",
            "ekder_all - 0%\n",
            "ekder_male - 0%\n",
            "ekder_female - 0%\n",
            "0_6_all - 0%\n",
            "0_6_male - 0%\n",
            "0_6_female - 0%\n",
            "7_14_all - 0%\n",
            "7_14_male - 0%\n",
            "7_14_female - 0%\n",
            "0_17_all - 0%\n",
            "0_17_male - 0%\n",
            "0_17_female - 0%\n",
            "16_29_all - 0%\n",
            "16_29_male - 0%\n",
            "16_29_female - 0%\n",
            "0_13_all - 0%\n",
            "0_13_male - 0%\n",
            "0_13_female - 0%\n",
            "raion_build_count_with_material_info - 16%\n",
            "build_count_block - 16%\n",
            "build_count_wood - 16%\n",
            "build_count_frame - 16%\n",
            "build_count_brick - 16%\n",
            "build_count_monolith - 16%\n",
            "build_count_panel - 16%\n",
            "build_count_foam - 16%\n",
            "build_count_slag - 16%\n",
            "build_count_mix - 16%\n",
            "raion_build_count_with_builddate_info - 16%\n",
            "build_count_before_1920 - 16%\n",
            "build_count_1921-1945 - 16%\n",
            "build_count_1946-1970 - 16%\n",
            "build_count_1971-1995 - 16%\n",
            "build_count_after_1995 - 16%\n",
            "ID_metro - 0%\n",
            "metro_min_avto - 0%\n",
            "metro_km_avto - 0%\n",
            "metro_min_walk - 0%\n",
            "metro_km_walk - 0%\n",
            "kindergarten_km - 0%\n",
            "school_km - 0%\n",
            "park_km - 0%\n",
            "green_zone_km - 0%\n",
            "industrial_km - 0%\n",
            "water_treatment_km - 0%\n",
            "cemetery_km - 0%\n",
            "incineration_km - 0%\n",
            "railroad_station_walk_km - 0%\n",
            "railroad_station_walk_min - 0%\n",
            "ID_railroad_station_walk - 0%\n",
            "railroad_station_avto_km - 0%\n",
            "railroad_station_avto_min - 0%\n",
            "ID_railroad_station_avto - 0%\n",
            "public_transport_station_km - 0%\n",
            "public_transport_station_min_walk - 0%\n",
            "water_km - 0%\n",
            "water_1line - 0%\n",
            "mkad_km - 0%\n",
            "ttk_km - 0%\n",
            "sadovoe_km - 0%\n",
            "bulvar_ring_km - 0%\n",
            "kremlin_km - 0%\n",
            "big_road1_km - 0%\n",
            "ID_big_road1 - 0%\n",
            "big_road1_1line - 0%\n",
            "big_road2_km - 0%\n",
            "ID_big_road2 - 0%\n",
            "railroad_km - 0%\n",
            "railroad_1line - 0%\n",
            "zd_vokzaly_avto_km - 0%\n",
            "ID_railroad_terminal - 0%\n",
            "bus_terminal_avto_km - 0%\n",
            "ID_bus_terminal - 0%\n",
            "oil_chemistry_km - 0%\n",
            "nuclear_reactor_km - 0%\n",
            "radiation_km - 0%\n",
            "power_transmission_line_km - 0%\n",
            "thermal_power_plant_km - 0%\n",
            "ts_km - 0%\n",
            "big_market_km - 0%\n",
            "market_shop_km - 0%\n",
            "fitness_km - 0%\n",
            "swim_pool_km - 0%\n",
            "ice_rink_km - 0%\n",
            "stadium_km - 0%\n",
            "basketball_km - 0%\n",
            "hospice_morgue_km - 0%\n",
            "detention_facility_km - 0%\n",
            "public_healthcare_km - 0%\n",
            "university_km - 0%\n",
            "workplaces_km - 0%\n",
            "shopping_centers_km - 0%\n",
            "office_km - 0%\n",
            "additional_education_km - 0%\n",
            "preschool_km - 0%\n",
            "big_church_km - 0%\n",
            "church_synagogue_km - 0%\n",
            "mosque_km - 0%\n",
            "theater_km - 0%\n",
            "museum_km - 0%\n",
            "exhibition_km - 0%\n",
            "catering_km - 0%\n",
            "ecology - 0%\n",
            "green_part_500 - 0%\n",
            "prom_part_500 - 0%\n",
            "office_count_500 - 0%\n",
            "office_sqm_500 - 0%\n",
            "trc_count_500 - 0%\n",
            "trc_sqm_500 - 0%\n",
            "cafe_count_500 - 0%\n",
            "cafe_sum_500_min_price_avg - 44%\n",
            "cafe_sum_500_max_price_avg - 44%\n",
            "cafe_avg_price_500 - 44%\n",
            "cafe_count_500_na_price - 0%\n",
            "cafe_count_500_price_500 - 0%\n",
            "cafe_count_500_price_1000 - 0%\n",
            "cafe_count_500_price_1500 - 0%\n",
            "cafe_count_500_price_2500 - 0%\n",
            "cafe_count_500_price_4000 - 0%\n",
            "cafe_count_500_price_high - 0%\n",
            "big_church_count_500 - 0%\n",
            "church_count_500 - 0%\n",
            "mosque_count_500 - 0%\n",
            "leisure_count_500 - 0%\n",
            "sport_count_500 - 0%\n",
            "market_count_500 - 0%\n",
            "green_part_1000 - 0%\n",
            "prom_part_1000 - 0%\n",
            "office_count_1000 - 0%\n",
            "office_sqm_1000 - 0%\n",
            "trc_count_1000 - 0%\n",
            "trc_sqm_1000 - 0%\n",
            "cafe_count_1000 - 0%\n",
            "cafe_sum_1000_min_price_avg - 21%\n",
            "cafe_sum_1000_max_price_avg - 21%\n",
            "cafe_avg_price_1000 - 21%\n",
            "cafe_count_1000_na_price - 0%\n",
            "cafe_count_1000_price_500 - 0%\n",
            "cafe_count_1000_price_1000 - 0%\n",
            "cafe_count_1000_price_1500 - 0%\n",
            "cafe_count_1000_price_2500 - 0%\n",
            "cafe_count_1000_price_4000 - 0%\n",
            "cafe_count_1000_price_high - 0%\n",
            "big_church_count_1000 - 0%\n",
            "church_count_1000 - 0%\n",
            "mosque_count_1000 - 0%\n",
            "leisure_count_1000 - 0%\n",
            "sport_count_1000 - 0%\n",
            "market_count_1000 - 0%\n",
            "green_part_1500 - 0%\n",
            "prom_part_1500 - 0%\n",
            "office_count_1500 - 0%\n",
            "office_sqm_1500 - 0%\n",
            "trc_count_1500 - 0%\n",
            "trc_sqm_1500 - 0%\n",
            "cafe_count_1500 - 0%\n",
            "cafe_sum_1500_min_price_avg - 14%\n",
            "cafe_sum_1500_max_price_avg - 14%\n",
            "cafe_avg_price_1500 - 14%\n",
            "cafe_count_1500_na_price - 0%\n",
            "cafe_count_1500_price_500 - 0%\n",
            "cafe_count_1500_price_1000 - 0%\n",
            "cafe_count_1500_price_1500 - 0%\n",
            "cafe_count_1500_price_2500 - 0%\n",
            "cafe_count_1500_price_4000 - 0%\n",
            "cafe_count_1500_price_high - 0%\n",
            "big_church_count_1500 - 0%\n",
            "church_count_1500 - 0%\n",
            "mosque_count_1500 - 0%\n",
            "leisure_count_1500 - 0%\n",
            "sport_count_1500 - 0%\n",
            "market_count_1500 - 0%\n",
            "green_part_2000 - 0%\n",
            "prom_part_2000 - 0%\n",
            "office_count_2000 - 0%\n",
            "office_sqm_2000 - 0%\n",
            "trc_count_2000 - 0%\n",
            "trc_sqm_2000 - 0%\n",
            "cafe_count_2000 - 0%\n",
            "cafe_sum_2000_min_price_avg - 6%\n",
            "cafe_sum_2000_max_price_avg - 6%\n",
            "cafe_avg_price_2000 - 6%\n",
            "cafe_count_2000_na_price - 0%\n",
            "cafe_count_2000_price_500 - 0%\n",
            "cafe_count_2000_price_1000 - 0%\n",
            "cafe_count_2000_price_1500 - 0%\n",
            "cafe_count_2000_price_2500 - 0%\n",
            "cafe_count_2000_price_4000 - 0%\n",
            "cafe_count_2000_price_high - 0%\n",
            "big_church_count_2000 - 0%\n",
            "church_count_2000 - 0%\n",
            "mosque_count_2000 - 0%\n",
            "leisure_count_2000 - 0%\n",
            "sport_count_2000 - 0%\n",
            "market_count_2000 - 0%\n",
            "green_part_3000 - 0%\n",
            "prom_part_3000 - 0%\n",
            "office_count_3000 - 0%\n",
            "office_sqm_3000 - 0%\n",
            "trc_count_3000 - 0%\n",
            "trc_sqm_3000 - 0%\n",
            "cafe_count_3000 - 0%\n",
            "cafe_sum_3000_min_price_avg - 3%\n",
            "cafe_sum_3000_max_price_avg - 3%\n",
            "cafe_avg_price_3000 - 3%\n",
            "cafe_count_3000_na_price - 0%\n",
            "cafe_count_3000_price_500 - 0%\n",
            "cafe_count_3000_price_1000 - 0%\n",
            "cafe_count_3000_price_1500 - 0%\n",
            "cafe_count_3000_price_2500 - 0%\n",
            "cafe_count_3000_price_4000 - 0%\n",
            "cafe_count_3000_price_high - 0%\n",
            "big_church_count_3000 - 0%\n",
            "church_count_3000 - 0%\n",
            "mosque_count_3000 - 0%\n",
            "leisure_count_3000 - 0%\n",
            "sport_count_3000 - 0%\n",
            "market_count_3000 - 0%\n",
            "green_part_5000 - 0%\n",
            "prom_part_5000 - 1%\n",
            "office_count_5000 - 0%\n",
            "office_sqm_5000 - 0%\n",
            "trc_count_5000 - 0%\n",
            "trc_sqm_5000 - 0%\n",
            "cafe_count_5000 - 0%\n",
            "cafe_sum_5000_min_price_avg - 1%\n",
            "cafe_sum_5000_max_price_avg - 1%\n",
            "cafe_avg_price_5000 - 1%\n",
            "cafe_count_5000_na_price - 0%\n",
            "cafe_count_5000_price_500 - 0%\n",
            "cafe_count_5000_price_1000 - 0%\n",
            "cafe_count_5000_price_1500 - 0%\n",
            "cafe_count_5000_price_2500 - 0%\n",
            "cafe_count_5000_price_4000 - 0%\n",
            "cafe_count_5000_price_high - 0%\n",
            "big_church_count_5000 - 0%\n",
            "church_count_5000 - 0%\n",
            "mosque_count_5000 - 0%\n",
            "leisure_count_5000 - 0%\n",
            "sport_count_5000 - 0%\n",
            "market_count_5000 - 0%\n",
            "price_doc - 0%\n"
          ],
          "name": "stdout"
        }
      ]
    },
    {
      "cell_type": "markdown",
      "metadata": {
        "id": "jN1E8VMa18vp"
      },
      "source": [
        "Esto produce una lista abajo que muestra el porcentaje de valores faltantes para cada una de las características.\n",
        "Específicamente, vemos que a la característica *life_sq* le falta el 21%, mientras que  *floor* sólo le falta el 1%.\n",
        " Esta lista es un resumen útil que puede complementar la visualización del mapa de calor."
      ]
    },
    {
      "cell_type": "markdown",
      "metadata": {
        "id": "6Sya5_C94tMe"
      },
      "source": [
        "## Missing Data Histogram"
      ]
    },
    {
      "cell_type": "markdown",
      "metadata": {
        "id": "MUbLE63X4yxm"
      },
      "source": [
        "El histograma de datos faltantes es también una técnica para cuando tenemos muchas características.\n",
        "\n",
        "Para aprender más sobre los patrones de valores perdidos entre las observaciones, podemos visualizarlos mediante un histograma."
      ]
    },
    {
      "cell_type": "code",
      "metadata": {
        "colab": {
          "base_uri": "https://localhost:8080/",
          "height": 1000
        },
        "id": "ekN0O3go6uv_",
        "outputId": "71897d44-d305-4f09-8334-afdb3582ef23"
      },
      "source": [
        "# first create missing indicator for features with missing data\n",
        "for col in df.columns:\n",
        "    missing = df[col].isnull()\n",
        "    num_missing = np.sum(missing)\n",
        "    \n",
        "    if num_missing > 0:  \n",
        "        print('created missing indicator for: {}'.format(col))\n",
        "        df['{}_ismissing'.format(col)] = missing\n",
        "\n",
        "\n",
        "# then based on the indicator, plot the histogram of missing values\n",
        "ismissing_cols = [col for col in df.columns if 'ismissing' in col]\n",
        "df['num_missing'] = df[ismissing_cols].sum(axis=1)\n",
        "\n",
        "df['num_missing'].value_counts().reset_index().sort_values(by='index').plot.bar(x='index', y='num_missing')\n"
      ],
      "execution_count": 11,
      "outputs": [
        {
          "output_type": "stream",
          "text": [
            "created missing indicator for: life_sq\n",
            "created missing indicator for: floor\n",
            "created missing indicator for: max_floor\n",
            "created missing indicator for: material\n",
            "created missing indicator for: build_year\n",
            "created missing indicator for: num_room\n",
            "created missing indicator for: kitch_sq\n",
            "created missing indicator for: state\n",
            "created missing indicator for: preschool_quota\n",
            "created missing indicator for: school_quota\n",
            "created missing indicator for: hospital_beds_raion\n",
            "created missing indicator for: raion_build_count_with_material_info\n",
            "created missing indicator for: build_count_block\n",
            "created missing indicator for: build_count_wood\n",
            "created missing indicator for: build_count_frame\n",
            "created missing indicator for: build_count_brick\n",
            "created missing indicator for: build_count_monolith\n",
            "created missing indicator for: build_count_panel\n",
            "created missing indicator for: build_count_foam\n",
            "created missing indicator for: build_count_slag\n",
            "created missing indicator for: build_count_mix\n",
            "created missing indicator for: raion_build_count_with_builddate_info\n",
            "created missing indicator for: build_count_before_1920\n",
            "created missing indicator for: build_count_1921-1945\n",
            "created missing indicator for: build_count_1946-1970\n",
            "created missing indicator for: build_count_1971-1995\n",
            "created missing indicator for: build_count_after_1995\n",
            "created missing indicator for: metro_min_walk\n",
            "created missing indicator for: metro_km_walk\n",
            "created missing indicator for: railroad_station_walk_km\n",
            "created missing indicator for: railroad_station_walk_min\n",
            "created missing indicator for: ID_railroad_station_walk\n",
            "created missing indicator for: cafe_sum_500_min_price_avg\n",
            "created missing indicator for: cafe_sum_500_max_price_avg\n",
            "created missing indicator for: cafe_avg_price_500\n",
            "created missing indicator for: cafe_sum_1000_min_price_avg\n",
            "created missing indicator for: cafe_sum_1000_max_price_avg\n",
            "created missing indicator for: cafe_avg_price_1000\n",
            "created missing indicator for: cafe_sum_1500_min_price_avg\n",
            "created missing indicator for: cafe_sum_1500_max_price_avg\n",
            "created missing indicator for: cafe_avg_price_1500\n",
            "created missing indicator for: cafe_sum_2000_min_price_avg\n",
            "created missing indicator for: cafe_sum_2000_max_price_avg\n",
            "created missing indicator for: cafe_avg_price_2000\n",
            "created missing indicator for: cafe_sum_3000_min_price_avg\n",
            "created missing indicator for: cafe_sum_3000_max_price_avg\n",
            "created missing indicator for: cafe_avg_price_3000\n",
            "created missing indicator for: prom_part_5000\n",
            "created missing indicator for: cafe_sum_5000_min_price_avg\n",
            "created missing indicator for: cafe_sum_5000_max_price_avg\n",
            "created missing indicator for: cafe_avg_price_5000\n"
          ],
          "name": "stdout"
        },
        {
          "output_type": "execute_result",
          "data": {
            "text/plain": [
              "<matplotlib.axes._subplots.AxesSubplot at 0x7f4f2d31b9d0>"
            ]
          },
          "metadata": {
            "tags": []
          },
          "execution_count": 11
        },
        {
          "output_type": "display_data",
          "data": {
            "image/png": "[encoded data removed]",
            "text/plain": [
              "<Figure size 432x288 with 1 Axes>"
            ]
          },
          "metadata": {
            "tags": [],
            "needs_background": "light"
          }
        }
      ]
    },
    {
      "cell_type": "markdown",
      "metadata": {
        "id": "DT6Lr7Sg62jF"
      },
      "source": [
        "Este histograma ayuda a identificar las situaciones de valores perdidos de las 30.471 observaciones.\n",
        "\n",
        "Por ejemplo, hay más de 6000 instancias sin valores perdidos y cerca de 4000 instancias con un valor perdido."
      ]
    },
    {
      "cell_type": "markdown",
      "metadata": {
        "id": "4XaFiNo77Qmu"
      },
      "source": [
        "# ¿Qué hacer?\n",
        "No hay soluciones fijas para tratar con los datos que faltan. Tenemos que estudiar la característica específica y el conjunto de datos para decidir la mejor manera de manejarlos.\n",
        "\n",
        "A continuación se describen los cuatro métodos más comunes para manejar los datos que faltan. Pero, si la situación es más complicada de lo habitual, tenemos que ser creativos para usar métodos más sofisticados como el modelado de datos perdidos.\n",
        "\n"
      ]
    },
    {
      "cell_type": "markdown",
      "metadata": {
        "id": "dUT2gM3l8HTc"
      },
      "source": [
        "##  Dejar o no dejar  la instancia\n",
        "\n",
        "En estadística, este método se denomina técnica de supresión  ( listwise deletion technique). En esta solución, eliminamos todas la observaciones siempre y cuando contenga un valor faltante.\n",
        "Sólo si estamos seguros de que los datos que faltan **no son informativos**, lo hacemos. De lo contrario, debemos considerar otras soluciones.\n",
        "\n",
        "Podría haber otros criterios estas observaciones.\n",
        "Por ejemplo, a partir del histograma de datos faltantes, notamos que sólo una cantidad mínima de observaciones tienen más de 35 características que faltan en total. Podríamos crear un nuevo conjunto de datos df_less_missing_rows eliminando las observaciones con más de 35 características que faltan.\n"
      ]
    },
    {
      "cell_type": "code",
      "metadata": {
        "colab": {
          "base_uri": "https://localhost:8080/"
        },
        "id": "U8UHOHB7Ahp6",
        "outputId": "0fea9161-c764-4bd5-c1d1-5a4efd1d2de4"
      },
      "source": [
        "# drop rows with a lot of missing values.\n",
        "ind_missing = df[df['num_missing'] > 35].index\n",
        "df_less_missing_rows = df.drop(ind_missing, axis=0)\n",
        "print(df_less_missing_rows.shape)"
      ],
      "execution_count": 12,
      "outputs": [
        {
          "output_type": "stream",
          "text": [
            "(29779, 344)\n"
          ],
          "name": "stdout"
        }
      ]
    },
    {
      "cell_type": "markdown",
      "metadata": {
        "id": "QjVhfqAgB7nO"
      },
      "source": [
        "Hemos pasado en este caso de  30.471  a 29.779 instancias para el entrenamiento\n",
        "\n",
        "---\n",
        "\n"
      ]
    },
    {
      "cell_type": "markdown",
      "metadata": {
        "id": "LAPmReizCWDx"
      },
      "source": [
        "## Dejar o no dejar la característica\n",
        "\n",
        "Similar a la Solución 1, sólo lo hacemos cuando estamos seguros de que esta característica no proporciona información útil.\n",
        "\n",
        "\n",
        "Por ejemplo, de la lista de % de datos faltantes, notamos que hospital_beds_raion tiene un alto porcentaje de valor faltante del 47%. Podemos eliminar toda la característica."
      ]
    },
    {
      "cell_type": "code",
      "metadata": {
        "colab": {
          "base_uri": "https://localhost:8080/"
        },
        "id": "lfH8SRksCkvC",
        "outputId": "674e7872-6a34-41e5-ce40-3ccc5d269f75"
      },
      "source": [
        "# hospital_beds_raion has a lot of missing.\n",
        "# If we want to drop.\n",
        "cols_to_drop = ['hospital_beds_raion']\n",
        "df_less_hos_beds_raion = df.drop(cols_to_drop, axis=1)\n",
        "print(df_less_hos_beds_raion.shape)"
      ],
      "execution_count": 13,
      "outputs": [
        {
          "output_type": "stream",
          "text": [
            "(30471, 343)\n"
          ],
          "name": "stdout"
        }
      ]
    },
    {
      "cell_type": "markdown",
      "metadata": {
        "id": "iyzGKbmgCuU-"
      },
      "source": [
        "Aqui comprobamos que tenemos las mimas instancias que al principio, porque lo único que hemos hecho es eliminar una variable de entrada."
      ]
    },
    {
      "cell_type": "markdown",
      "metadata": {
        "id": "Q8mmu6VNDDB5"
      },
      "source": [
        "## Imputar a los desaparecidos\n",
        "\n",
        "\n",
        "Cuando el rasgo es una variable numérica, podemos llevar a cabo algún computo con los datos que faltan. \n",
        "Sustituimos los valores que faltan por el **valor medio o mediano** de los datos de la misma característica que no falta.\n",
        "Cuando la característica es una variable categórica, podemos imputar los datos que faltan por el moda (el valor más frecuente).\n",
        "\n",
        "Utilizando *life_sq* como ejemplo, podemos sustituir los valores perdidos de esta característica por su mediana."
      ]
    },
    {
      "cell_type": "code",
      "metadata": {
        "colab": {
          "base_uri": "https://localhost:8080/"
        },
        "id": "iDwmI0d4DUzp",
        "outputId": "8360a0e4-7498-42fe-d402-64d49ec9d5df"
      },
      "source": [
        "# replace missing values with the median.\n",
        "med = df['life_sq'].median()\n",
        "print(med)\n",
        "df['life_sq'] = df['life_sq'].fillna(med)"
      ],
      "execution_count": 14,
      "outputs": [
        {
          "output_type": "stream",
          "text": [
            "30.0\n"
          ],
          "name": "stdout"
        }
      ]
    },
    {
      "cell_type": "markdown",
      "metadata": {
        "id": "dVOk7CIgDblj"
      },
      "source": [
        "Esto lo hemos hecho para una variable, pero se puede aplicar la misma estrategia  para todas las características numéricas a la vez."
      ]
    },
    {
      "cell_type": "code",
      "metadata": {
        "colab": {
          "base_uri": "https://localhost:8080/"
        },
        "id": "PshCfW8HDjp7",
        "outputId": "e87caedc-ef1a-4d99-e307-85ac8fdb7bb8"
      },
      "source": [
        "# impute the missing values and create the missing value indicator variables for each numeric column.\n",
        "df_numeric = df.select_dtypes(include=[np.number])\n",
        "numeric_cols = df_numeric.columns.values\n",
        "\n",
        "for col in numeric_cols:\n",
        "    missing = df[col].isnull()\n",
        "    num_missing = np.sum(missing)\n",
        "    \n",
        "    if num_missing > 0:  # only do the imputation for the columns that have missing values.\n",
        "        print('imputing missing values for: {}'.format(col))\n",
        "        df['{}_ismissing'.format(col)] = missing\n",
        "        med = df[col].median()\n",
        "        df[col] = df[col].fillna(med)\n"
      ],
      "execution_count": 15,
      "outputs": [
        {
          "output_type": "stream",
          "text": [
            "imputing missing values for: floor\n",
            "imputing missing values for: max_floor\n",
            "imputing missing values for: material\n",
            "imputing missing values for: build_year\n",
            "imputing missing values for: num_room\n",
            "imputing missing values for: kitch_sq\n",
            "imputing missing values for: state\n",
            "imputing missing values for: preschool_quota\n",
            "imputing missing values for: school_quota\n",
            "imputing missing values for: hospital_beds_raion\n",
            "imputing missing values for: raion_build_count_with_material_info\n",
            "imputing missing values for: build_count_block\n",
            "imputing missing values for: build_count_wood\n",
            "imputing missing values for: build_count_frame\n",
            "imputing missing values for: build_count_brick\n",
            "imputing missing values for: build_count_monolith\n",
            "imputing missing values for: build_count_panel\n",
            "imputing missing values for: build_count_foam\n",
            "imputing missing values for: build_count_slag\n",
            "imputing missing values for: build_count_mix\n",
            "imputing missing values for: raion_build_count_with_builddate_info\n",
            "imputing missing values for: build_count_before_1920\n",
            "imputing missing values for: build_count_1921-1945\n",
            "imputing missing values for: build_count_1946-1970\n",
            "imputing missing values for: build_count_1971-1995\n",
            "imputing missing values for: build_count_after_1995\n",
            "imputing missing values for: metro_min_walk\n",
            "imputing missing values for: metro_km_walk\n",
            "imputing missing values for: railroad_station_walk_km\n",
            "imputing missing values for: railroad_station_walk_min\n",
            "imputing missing values for: ID_railroad_station_walk\n",
            "imputing missing values for: cafe_sum_500_min_price_avg\n",
            "imputing missing values for: cafe_sum_500_max_price_avg\n",
            "imputing missing values for: cafe_avg_price_500\n",
            "imputing missing values for: cafe_sum_1000_min_price_avg\n",
            "imputing missing values for: cafe_sum_1000_max_price_avg\n",
            "imputing missing values for: cafe_avg_price_1000\n",
            "imputing missing values for: cafe_sum_1500_min_price_avg\n",
            "imputing missing values for: cafe_sum_1500_max_price_avg\n",
            "imputing missing values for: cafe_avg_price_1500\n",
            "imputing missing values for: cafe_sum_2000_min_price_avg\n",
            "imputing missing values for: cafe_sum_2000_max_price_avg\n",
            "imputing missing values for: cafe_avg_price_2000\n",
            "imputing missing values for: cafe_sum_3000_min_price_avg\n",
            "imputing missing values for: cafe_sum_3000_max_price_avg\n",
            "imputing missing values for: cafe_avg_price_3000\n",
            "imputing missing values for: prom_part_5000\n",
            "imputing missing values for: cafe_sum_5000_min_price_avg\n",
            "imputing missing values for: cafe_sum_5000_max_price_avg\n",
            "imputing missing values for: cafe_avg_price_5000\n"
          ],
          "name": "stdout"
        }
      ]
    },
    {
      "cell_type": "markdown",
      "metadata": {
        "id": "EMxOH43qDsy4"
      },
      "source": [
        "Como hemos analizado el data set antes de empezar a trabajar con ello sabemos que no tenemos ninguna variable numerica con missing values\n",
        "\n",
        "Sin embargo, podemos aplicar la estrategia de imputación de modos para todos los rasgos categóricos a la vez.\n"
      ]
    },
    {
      "cell_type": "code",
      "metadata": {
        "id": "opRK1KfnD4EQ"
      },
      "source": [
        "# impute the missing values and create the missing value indicator variables for each non-numeric column.\n",
        "df_non_numeric = df.select_dtypes(exclude=[np.number])\n",
        "non_numeric_cols = df_non_numeric.columns.values\n",
        "\n",
        "for col in non_numeric_cols:\n",
        "    missing = df[col].isnull()\n",
        "    num_missing = np.sum(missing)\n",
        "    \n",
        "    if num_missing > 0:  # only do the imputation for the columns that have missing values.\n",
        "        print('imputing missing values for: {}'.format(col))\n",
        "        df['{}_ismissing'.format(col)] = missing\n",
        "        \n",
        "        top = df[col].describe()['top'] # impute with the most frequent value.\n",
        "        df[col] = df[col].fillna(top)"
      ],
      "execution_count": 16,
      "outputs": []
    },
    {
      "cell_type": "markdown",
      "metadata": {
        "id": "b5IxK4IKD_W8"
      },
      "source": [
        "## Reemplazar valores\n",
        "\n",
        "Para las características categóricas, podemos añadir una nueva categoría con un valor como \"FALTA_\". Para los rasgos numéricos, podemos reemplazarlo con un valor particular como -999.\n",
        "\n",
        "De esta manera, seguimos manteniendo los valores que faltan como información valiosa."
      ]
    },
    {
      "cell_type": "code",
      "metadata": {
        "id": "OHENJsznEJUH"
      },
      "source": [
        "# categorical\n",
        "df['sub_area'] = df['sub_area'].fillna('_MISSING_')\n",
        "\n",
        "\n",
        "# numeric\n",
        "df['life_sq'] = df['life_sq'].fillna(-999)"
      ],
      "execution_count": 17,
      "outputs": []
    },
    {
      "cell_type": "markdown",
      "metadata": {
        "id": "xH4dJQYHPRSX"
      },
      "source": [
        ""
      ]
    },
    {
      "cell_type": "code",
      "metadata": {
        "id": "CjjDTdYNPR-O"
      },
      "source": [
        ""
      ],
      "execution_count": null,
      "outputs": []
    },
    {
      "cell_type": "markdown",
      "metadata": {
        "id": "D9a1QJ4EEP4D"
      },
      "source": [
        "# Outliers (Datos fuera de rango)\n",
        "\n",
        "Los valores atípicos son datos que son distintivamente diferentes de otras observaciones. Pueden ser verdaderos valores atípicos o errores.\n",
        "\n",
        "**¿Cómo averiguarlo?**\n",
        "\n",
        "Dependiendo de si la característica es numérica o categórica, podemos utilizar diferentes técnicas para estudiar su distribución para detectar los valores atípicos.\n"
      ]
    },
    {
      "cell_type": "markdown",
      "metadata": {
        "id": "2nXDUKtlEemq"
      },
      "source": [
        "## Histograma /Box Plot\n",
        "\n",
        "Cuando la característica es numérica, podemos usar un histograma y un diagrama de caja para detectar los valores atípicos.\n",
        "A continuación se muestra el histograma del rasgo *life_sq*.\n",
        "\n"
      ]
    },
    {
      "cell_type": "code",
      "metadata": {
        "colab": {
          "base_uri": "https://localhost:8080/",
          "height": 282
        },
        "id": "4q-NAm8TEr-9",
        "outputId": "427ab6b6-c513-4611-ee67-c1e3b7f43710"
      },
      "source": [
        "# histogram of life_sq.\n",
        "df['life_sq'].hist(bins=100)"
      ],
      "execution_count": 20,
      "outputs": [
        {
          "output_type": "execute_result",
          "data": {
            "text/plain": [
              "<matplotlib.axes._subplots.AxesSubplot at 0x7f4f2afd7a90>"
            ]
          },
          "metadata": {
            "tags": []
          },
          "execution_count": 20
        },
        {
          "output_type": "display_data",
          "data": {
            "image/png": "[encoded data removed]",
            "text/plain": [
              "<Figure size 432x288 with 1 Axes>"
            ]
          },
          "metadata": {
            "tags": [],
            "needs_background": "light"
          }
        }
      ]
    },
    {
      "cell_type": "markdown",
      "metadata": {
        "id": "I4DuGPvQExe3"
      },
      "source": [
        "Los datos parecen muy sesgados con la posible existencia de valores atípicos. Estan centrados en un rango muy pequeño de valores"
      ]
    },
    {
      "cell_type": "code",
      "metadata": {
        "colab": {
          "base_uri": "https://localhost:8080/",
          "height": 283
        },
        "id": "ZE2oXLHRE3E5",
        "outputId": "617089ec-5228-4383-ce71-9da10e561ace"
      },
      "source": [
        "# box plot.\n",
        "df.boxplot(column=['life_sq'])"
      ],
      "execution_count": 21,
      "outputs": [
        {
          "output_type": "execute_result",
          "data": {
            "text/plain": [
              "<matplotlib.axes._subplots.AxesSubplot at 0x7f4f2ae36550>"
            ]
          },
          "metadata": {
            "tags": []
          },
          "execution_count": 21
        },
        {
          "output_type": "display_data",
          "data": {
            "image/png": "[encoded data removed]",
            "text/plain": [
              "<Figure size 432x288 with 1 Axes>"
            ]
          },
          "metadata": {
            "tags": [],
            "needs_background": "light"
          }
        }
      ]
    },
    {
      "cell_type": "markdown",
      "metadata": {
        "id": "3lkhjgXZE9c8"
      },
      "source": [
        "Este último grafico, nos muestra un dato atipico con valor de más de 7000. Mientras que en el otro gráfico lo podiamos intuir.\n"
      ]
    },
    {
      "cell_type": "markdown",
      "metadata": {
        "id": "onAVL5bxFKXL"
      },
      "source": [
        "## Bar Chart\n",
        "\n",
        "Cuando la característica es categórica. Podemos usar un gráfico de barras para aprender sobre sus categorías y distribución.\n",
        "\n",
        "Por ejemplo, la característica *ecology* tiene una distribución razonable. Pero si hay una categoría con un solo valor llamado \"otro\", entonces sería un atípico."
      ]
    },
    {
      "cell_type": "code",
      "metadata": {
        "colab": {
          "base_uri": "https://localhost:8080/",
          "height": 331
        },
        "id": "M40GujvMFTnf",
        "outputId": "a8ba011d-5029-4e42-de06-fe90b3547451"
      },
      "source": [
        "# bar chart -  distribution of a categorical variable\n",
        "df['ecology'].value_counts().plot.bar()"
      ],
      "execution_count": null,
      "outputs": [
        {
          "output_type": "execute_result",
          "data": {
            "text/plain": [
              "<matplotlib.axes._subplots.AxesSubplot at 0x7f5448904f60>"
            ]
          },
          "metadata": {
            "tags": []
          },
          "execution_count": 26
        },
        {
          "output_type": "display_data",
          "data": {
            "image/png": "[encoded data removed]",
            "text/plain": [
              "<Figure size 432x288 with 1 Axes>"
            ]
          },
          "metadata": {
            "tags": [],
            "needs_background": "light"
          }
        }
      ]
    },
    {
      "cell_type": "markdown",
      "metadata": {
        "id": "AIzev8hgFivs"
      },
      "source": [
        ""
      ]
    },
    {
      "cell_type": "markdown",
      "metadata": {
        "id": "GqGtlPLGFgiD"
      },
      "source": [
        "## Other Techniques\n",
        "\n",
        "Muchas otras técnicas también pueden detectar valores atípicos, como la gráfica de dispersión, la z-score y la agrupación. \n",
        "\n",
        "Aunque los valores atípicos no son difíciles de detectar, tenemos que determinar las soluciones adecuadas para manejarlos. \n",
        "\n",
        "Depende en gran medida del conjunto de datos y del **objetivo** del proyecto.\n",
        "Los métodos para manejar los valores atípicos son algo similar a los datos que faltan.\n",
        "- O bien los eliminamos\n",
        "- o los ajustamos \n",
        "- o los conservamos."
      ]
    },
    {
      "cell_type": "markdown",
      "metadata": {
        "id": "GxCREAqZGCjV"
      },
      "source": [
        "# Datos innecesarios\n",
        "\n",
        "Después de todo el trabajo realizado para los datos que faltan y los valores atípicos, veamos los datos innecesarios, que son más sencillos.\n",
        "\n",
        "Todos los datos que se introducen en el modelo deberían servir para el propósito del proyecto. \n",
        "Los datos innecesarios son cuando los datos no añaden valor. \n",
        "\n",
        "Hay  tres tipos principales de datos innecesarios debido a diferentes razones."
      ]
    },
    {
      "cell_type": "markdown",
      "metadata": {
        "id": "8aRP-QlyGQtI"
      },
      "source": [
        "## Tipo innecesario 1: Desinformativo / Repetitivo\n",
        "\n",
        "A veces una característica no es informativa porque tiene demasiadas filas que tienen el mismo valor.\n",
        "\n",
        "**¿Cómo averiguarlo?**\n",
        "\n",
        "Podemos crear una lista de características con un alto porcentaje del mismo valor.\n",
        "\n",
        "Por ejemplo, especificamos a continuación para mostrar las características con más del 95% de filas que tienen el mismo valor."
      ]
    },
    {
      "cell_type": "code",
      "metadata": {
        "colab": {
          "base_uri": "https://localhost:8080/"
        },
        "id": "yFUXC8EFGd2c",
        "outputId": "61ef6296-4a87-43b4-83e4-2c9a8d9a4edf"
      },
      "source": [
        "num_rows = len(df.index)\n",
        "low_information_cols = [] #\n",
        "\n",
        "for col in df.columns:\n",
        "    cnts = df[col].value_counts(dropna=False)\n",
        "    top_pct = (cnts/num_rows).iloc[0]\n",
        "    \n",
        "    if top_pct > 0.95:\n",
        "        low_information_cols.append(col)\n",
        "        print('{0}: {1:.5f}%'.format(col, top_pct*100))\n",
        "        print(cnts)\n",
        "        print()"
      ],
      "execution_count": 22,
      "outputs": [
        {
          "output_type": "stream",
          "text": [
            "oil_chemistry_raion: 99.02858%\n",
            "no     30175\n",
            "yes      296\n",
            "Name: oil_chemistry_raion, dtype: int64\n",
            "\n",
            "railroad_terminal_raion: 96.27187%\n",
            "no     29335\n",
            "yes     1136\n",
            "Name: railroad_terminal_raion, dtype: int64\n",
            "\n",
            "nuclear_reactor_raion: 97.16780%\n",
            "no     29608\n",
            "yes      863\n",
            "Name: nuclear_reactor_raion, dtype: int64\n",
            "\n",
            "build_count_foam: 95.35624%\n",
            "0.0     29056\n",
            "1.0       969\n",
            "11.0      262\n",
            "2.0       184\n",
            "Name: build_count_foam, dtype: int64\n",
            "\n",
            "big_road1_1line: 97.43691%\n",
            "no     29690\n",
            "yes      781\n",
            "Name: big_road1_1line, dtype: int64\n",
            "\n",
            "railroad_1line: 97.06934%\n",
            "no     29578\n",
            "yes      893\n",
            "Name: railroad_1line, dtype: int64\n",
            "\n",
            "cafe_count_500_price_high: 97.25641%\n",
            "0    29635\n",
            "1      787\n",
            "2       38\n",
            "3       11\n",
            "Name: cafe_count_500_price_high, dtype: int64\n",
            "\n",
            "mosque_count_500: 99.51101%\n",
            "0    30322\n",
            "1      149\n",
            "Name: mosque_count_500, dtype: int64\n",
            "\n",
            "cafe_count_1000_price_high: 95.52689%\n",
            "0    29108\n",
            "1     1104\n",
            "2      145\n",
            "3       51\n",
            "4       39\n",
            "5       15\n",
            "6        8\n",
            "7        1\n",
            "Name: cafe_count_1000_price_high, dtype: int64\n",
            "\n",
            "mosque_count_1000: 98.08342%\n",
            "0    29887\n",
            "1      584\n",
            "Name: mosque_count_1000, dtype: int64\n",
            "\n",
            "mosque_count_1500: 96.21936%\n",
            "0    29319\n",
            "1     1152\n",
            "Name: mosque_count_1500, dtype: int64\n",
            "\n",
            "floor_ismissing: 99.45194%\n",
            "False    30304\n",
            "True       167\n",
            "Name: floor_ismissing, dtype: int64\n",
            "\n",
            "metro_min_walk_ismissing: 99.91795%\n",
            "False    30446\n",
            "True        25\n",
            "Name: metro_min_walk_ismissing, dtype: int64\n",
            "\n",
            "metro_km_walk_ismissing: 99.91795%\n",
            "False    30446\n",
            "True        25\n",
            "Name: metro_km_walk_ismissing, dtype: int64\n",
            "\n",
            "railroad_station_walk_km_ismissing: 99.91795%\n",
            "False    30446\n",
            "True        25\n",
            "Name: railroad_station_walk_km_ismissing, dtype: int64\n",
            "\n",
            "railroad_station_walk_min_ismissing: 99.91795%\n",
            "False    30446\n",
            "True        25\n",
            "Name: railroad_station_walk_min_ismissing, dtype: int64\n",
            "\n",
            "ID_railroad_station_walk_ismissing: 99.91795%\n",
            "False    30446\n",
            "True        25\n",
            "Name: ID_railroad_station_walk_ismissing, dtype: int64\n",
            "\n",
            "cafe_sum_3000_min_price_avg_ismissing: 96.74773%\n",
            "False    29480\n",
            "True       991\n",
            "Name: cafe_sum_3000_min_price_avg_ismissing, dtype: int64\n",
            "\n",
            "cafe_sum_3000_max_price_avg_ismissing: 96.74773%\n",
            "False    29480\n",
            "True       991\n",
            "Name: cafe_sum_3000_max_price_avg_ismissing, dtype: int64\n",
            "\n",
            "cafe_avg_price_3000_ismissing: 96.74773%\n",
            "False    29480\n",
            "True       991\n",
            "Name: cafe_avg_price_3000_ismissing, dtype: int64\n",
            "\n",
            "prom_part_5000_ismissing: 99.41584%\n",
            "False    30293\n",
            "True       178\n",
            "Name: prom_part_5000_ismissing, dtype: int64\n",
            "\n",
            "cafe_sum_5000_min_price_avg_ismissing: 99.02530%\n",
            "False    30174\n",
            "True       297\n",
            "Name: cafe_sum_5000_min_price_avg_ismissing, dtype: int64\n",
            "\n",
            "cafe_sum_5000_max_price_avg_ismissing: 99.02530%\n",
            "False    30174\n",
            "True       297\n",
            "Name: cafe_sum_5000_max_price_avg_ismissing, dtype: int64\n",
            "\n",
            "cafe_avg_price_5000_ismissing: 99.02530%\n",
            "False    30174\n",
            "True       297\n",
            "Name: cafe_avg_price_5000_ismissing, dtype: int64\n",
            "\n"
          ],
          "name": "stdout"
        }
      ]
    },
    {
      "cell_type": "markdown",
      "metadata": {
        "id": "O-ubfZd_Gnyd"
      },
      "source": [
        "Podemos examinar estas variables una por una para ver si son informativas o no. \n",
        "\n",
        "**¿Qué hacer?**\n",
        "\n",
        "Necesitamos entender las razones detrás de la característica repetitiva. Cuando son genuinamente desinformativas, podemos descartarlas.\n",
        "\n"
      ]
    },
    {
      "cell_type": "markdown",
      "metadata": {
        "id": "XFB5HEweG4IL"
      },
      "source": [
        "## Tipo innecesario 2: Irrelevante\n",
        "\n",
        "Una vez más, los datos deben proporcionar información valiosa para el proyecto. Si las características no están relacionadas con la cuestión que estamos tratando de resolver en el proyecto, son irrelevantes.\n",
        "\n",
        "**¿Cómo averiguarlo?**\n",
        "\n",
        "Necesitamos hojear las características para identificar las irrelevantes.\n",
        "Por ejemplo, un rasgo que registra la *temperatura en Toronto* no proporciona ninguna información útil para predecir los precios de las *viviendas en Rusia*.\n",
        "\n",
        "**¿Qué hacer?**\n",
        "\n",
        "Cuando las características no sirven al objetivo del proyecto, podemos eliminarlas."
      ]
    },
    {
      "cell_type": "markdown",
      "metadata": {
        "id": "dofEAqiVHNKj"
      },
      "source": [
        "## Tipo innecesario 3: Duplicados\n",
        "\n",
        "Los datos duplicados son cuando existen copias de la misma observación.\n",
        "Hay dos tipos principales de datos duplicados."
      ]
    },
    {
      "cell_type": "markdown",
      "metadata": {
        "id": "PbGEjuc1HYz9"
      },
      "source": [
        "### En base a las características\n",
        "\n",
        "**¿Cómo averiguarlo?**\n",
        "\n",
        "Este duplicado ocurre cuando todos los valores de las características dentro de las observaciones son los mismos. \n",
        "\n",
        "Es fácil de encontrar.\n",
        "\n",
        "Primero quitamos el identificador único del conjunto de datos. Luego creamos un conjunto de datos llamado *df_dedupped* eliminando los duplicados. Comparamos las formas de los dos conjuntos de datos (df y df_dedupped) para averiguar el número de filas duplicadas."
      ]
    },
    {
      "cell_type": "code",
      "metadata": {
        "colab": {
          "base_uri": "https://localhost:8080/"
        },
        "id": "PGig_i8IHt2H",
        "outputId": "a4a907a9-b7e8-4f69-ebac-d097d2e141e3"
      },
      "source": [
        "# we know that column 'id' is unique, but what if we drop it?\n",
        "df_dedupped = df.drop('id', axis=1).drop_duplicates()\n",
        "\n",
        "# there were duplicate rows\n",
        "print(df.shape)\n",
        "print(df_dedupped.shape)"
      ],
      "execution_count": 23,
      "outputs": [
        {
          "output_type": "stream",
          "text": [
            "(30471, 344)\n",
            "(30461, 343)\n"
          ],
          "name": "stdout"
        }
      ]
    },
    {
      "cell_type": "markdown",
      "metadata": {
        "id": "DxTAkR7jH0vQ"
      },
      "source": [
        "Tenemos 10 instancias duplicadas"
      ]
    },
    {
      "cell_type": "markdown",
      "metadata": {
        "id": "WfY62rtKIAY2"
      },
      "source": [
        "### En base a un subconjunto de características\n",
        "\n",
        "**¿Cómo averiguarlo?**\n",
        "\n",
        "A veces es mejor eliminar los datos duplicados basándose en un conjunto de identificadores únicos.\n",
        "\n",
        "Por ejemplo, las posibilidades de que dos transacciones ocurran al mismo tiempo, con la misma superficie, el mismo precio y el mismo año de construcción son casi nulas.\n",
        "Podemos establecer un grupo de características críticas como identificadores únicos para las transacciones. Incluimos la marca de tiempo, *full_sq, life_sq, piso, build_year, num_room, price_doc*. \n",
        "\n",
        "Comprobamos si hay duplicados basados en ellos."
      ]
    },
    {
      "cell_type": "code",
      "metadata": {
        "colab": {
          "base_uri": "https://localhost:8080/"
        },
        "id": "0UGB0VzEIQAZ",
        "outputId": "023996fe-cb7b-4c97-c956-29ae33b81436"
      },
      "source": [
        "key = ['timestamp', 'full_sq', 'life_sq', 'floor', 'build_year', 'num_room', 'price_doc']\n",
        "\n",
        "df.fillna(-999).groupby(key)['id'].count().sort_values(ascending=False).head(20)\n"
      ],
      "execution_count": 24,
      "outputs": [
        {
          "output_type": "execute_result",
          "data": {
            "text/plain": [
              "timestamp   full_sq  life_sq  floor  build_year  num_room  price_doc\n",
              "2012-10-22  61       30.0     18.0   1979.0      2.0       8248500      2\n",
              "2014-12-17  62       30.0     9.0    1979.0      2.0       6552000      2\n",
              "2014-01-22  46       28.0     1.0    1968.0      2.0       3000000      2\n",
              "2013-04-03  42       30.0     2.0    1979.0      2.0       3444000      2\n",
              "2013-09-23  85       30.0     14.0   1979.0      3.0       7725974      2\n",
              "2012-08-27  59       30.0     6.0    1979.0      2.0       4506800      2\n",
              "2014-04-15  134      134.0    1.0    0.0         3.0       5798496      2\n",
              "2013-05-22  68       30.0     2.0    1979.0      2.0       5406690      2\n",
              "2013-12-05  40       30.0     5.0    1979.0      1.0       4414080      2\n",
              "2012-09-05  43       30.0     21.0   1979.0      2.0       6229540      2\n",
              "2015-03-30  41       41.0     11.0   2016.0      1.0       4114580      2\n",
              "2013-12-18  39       30.0     6.0    1979.0      1.0       3700946      2\n",
              "2013-06-24  40       30.0     12.0   1979.0      2.0       4112800      2\n",
              "2013-08-30  40       30.0     12.0   1979.0      1.0       4462000      2\n",
              "2014-12-09  40       30.0     17.0   1979.0      1.0       4607265      2\n",
              "2015-03-14  62       30.0     2.0    1979.0      2.0       6520500      2\n",
              "2013-08-29  60       60.0     11.0   0.0         2.0       6518400      1\n",
              "            56       41.0     2.0    1961.0      3.0       8380000      1\n",
              "            52       52.0     9.0    1979.0      2.0       5619060      1\n",
              "            58       58.0     13.0   2013.0      2.0       5764128      1\n",
              "Name: id, dtype: int64"
            ]
          },
          "metadata": {
            "tags": []
          },
          "execution_count": 24
        }
      ]
    },
    {
      "cell_type": "markdown",
      "metadata": {
        "id": "-qI9tYdoIYbA"
      },
      "source": [
        "**¿Qué hacer?**\n",
        "\n",
        "Podemos eliminar estos duplicados basándonos en las características principales. ( Si lo consideramos necesario)"
      ]
    },
    {
      "cell_type": "code",
      "metadata": {
        "colab": {
          "base_uri": "https://localhost:8080/"
        },
        "id": "g2YqRgTCIdnS",
        "outputId": "fef11de7-ba06-4af1-a68b-25ebbee9a4af"
      },
      "source": [
        "# drop duplicates based on an subset of variables.\n",
        "\n",
        "key = ['timestamp', 'full_sq', 'life_sq', 'floor', 'build_year', 'num_room', 'price_doc']\n",
        "df_dedupped2 = df.drop_duplicates(subset=key)\n",
        "\n",
        "print(df.shape)\n",
        "print(df_dedupped2.shape)"
      ],
      "execution_count": 25,
      "outputs": [
        {
          "output_type": "stream",
          "text": [
            "(30471, 344)\n",
            "(30455, 344)\n"
          ],
          "name": "stdout"
        }
      ]
    },
    {
      "cell_type": "markdown",
      "metadata": {
        "id": "unH_Tk34IiEH"
      },
      "source": [
        "Hemos eliminado 16 instancias duplicadas en función de este subconjunto de características"
      ]
    },
    {
      "cell_type": "markdown",
      "metadata": {
        "id": "bi8GBJA-IrAC"
      },
      "source": [
        "# Datos inconsistentes\n",
        "\n",
        "También es crucial que el conjunto de datos siga estándares específicos para ajustarse a un modelo. \n",
        "Necesitamos explorar los datos de diferentes maneras para encontrar los datos inconsistentes. La mayor parte del tiempo, depende de las observaciones y la experiencia. No hay un código establecido para ejecutarlo y arreglarlo todo.\n",
        "\n"
      ]
    },
    {
      "cell_type": "markdown",
      "metadata": {
        "id": "yxnPL3xuI3hl"
      },
      "source": [
        "## 1: Capitalization\n",
        "\n",
        "El uso inconsistente de las mayúsculas y minúsculas en los valores categóricos es un error común. Podría causar problemas ya que los análisis en Python son sensibles a las mayúsculas y minúsculas.\n",
        "\n",
        "**¿Cómo averiguarlo?**\n",
        "\n",
        "Veamos la característica de sub_área."
      ]
    },
    {
      "cell_type": "code",
      "metadata": {
        "colab": {
          "base_uri": "https://localhost:8080/"
        },
        "id": "17EvHctjJBkZ",
        "outputId": "ae381cde-a5d9-45ea-830c-57e6bc5ef6b7"
      },
      "source": [
        "\n",
        "df['sub_area'].value_counts(dropna=False)"
      ],
      "execution_count": null,
      "outputs": [
        {
          "output_type": "execute_result",
          "data": {
            "text/plain": [
              "Poselenie Sosenskoe               1776\n",
              "Nekrasovka                        1611\n",
              "Poselenie Vnukovskoe              1372\n",
              "Poselenie Moskovskij               925\n",
              "Poselenie Voskresenskoe            713\n",
              "                                  ... \n",
              "Molzhaninovskoe                      3\n",
              "Poselenie Shhapovskoe                2\n",
              "Poselenie Kievskij                   2\n",
              "Poselenie Klenovskoe                 1\n",
              "Poselenie Mihajlovo-Jarcevskoe       1\n",
              "Name: sub_area, Length: 146, dtype: int64"
            ]
          },
          "metadata": {
            "tags": []
          },
          "execution_count": 31
        }
      ]
    },
    {
      "cell_type": "markdown",
      "metadata": {
        "id": "ryY0SfQZJJaQ"
      },
      "source": [
        "Almacena el nombre de diferentes áreas y se ve muy estandarizado.\n",
        "\n",
        "Pero a veces hay un uso inconsistente de las mayúsculas dentro de la misma característica. La \"Poselenie Sosenskoe\" y la \"pOseleNie sosenskeo\" podrían referirse a la misma área.\n",
        "\n",
        "**¿Cómo solucionarlo?**\n",
        "Para evitarlo, podemos poner todas las letras en minúsculas (o mayúsculas).\n",
        "\n",
        "\n"
      ]
    },
    {
      "cell_type": "code",
      "metadata": {
        "colab": {
          "base_uri": "https://localhost:8080/"
        },
        "id": "DsVYGHZ-JXS2",
        "outputId": "f59ea6d4-40f1-47d7-f014-5a2abffa3007"
      },
      "source": [
        "# make everything lower case.\n",
        "df['sub_area_lower'] = df['sub_area'].str.lower()\n",
        "df['sub_area_lower'].value_counts(dropna=False)"
      ],
      "execution_count": 26,
      "outputs": [
        {
          "output_type": "execute_result",
          "data": {
            "text/plain": [
              "poselenie sosenskoe               1776\n",
              "nekrasovka                        1611\n",
              "poselenie vnukovskoe              1372\n",
              "poselenie moskovskij               925\n",
              "poselenie voskresenskoe            713\n",
              "                                  ... \n",
              "molzhaninovskoe                      3\n",
              "poselenie shhapovskoe                2\n",
              "poselenie kievskij                   2\n",
              "poselenie mihajlovo-jarcevskoe       1\n",
              "poselenie klenovskoe                 1\n",
              "Name: sub_area_lower, Length: 146, dtype: int64"
            ]
          },
          "metadata": {
            "tags": []
          },
          "execution_count": 26
        }
      ]
    },
    {
      "cell_type": "markdown",
      "metadata": {
        "id": "85wrV5lgJbI6"
      },
      "source": [
        "## 2: Formato\n",
        "\n",
        "Otra estandarización que debemos realizar es la de los formatos de datos. Un ejemplo es convertir la característica de cadena al formato DateTime.\n",
        "\n",
        "**¿Cómo averiguarlo?**\n",
        "\n",
        "El sello de tiempo de la característica está en formato de cadena mientras que representa las fechas."
      ]
    },
    {
      "cell_type": "code",
      "metadata": {
        "colab": {
          "base_uri": "https://localhost:8080/",
          "height": 626
        },
        "id": "Iv_2MjF8Jjlq",
        "outputId": "f5d1f773-52ec-4af6-bf83-aba3e8bb090e"
      },
      "source": [
        "df"
      ],
      "execution_count": null,
      "outputs": [
        {
          "output_type": "execute_result",
          "data": {
            "text/html": [
              "<div>\n",
              "<style scoped>\n",
              "    .dataframe tbody tr th:only-of-type {\n",
              "        vertical-align: middle;\n",
              "    }\n",
              "\n",
              "    .dataframe tbody tr th {\n",
              "        vertical-align: top;\n",
              "    }\n",
              "\n",
              "    .dataframe thead th {\n",
              "        text-align: right;\n",
              "    }\n",
              "</style>\n",
              "<table border=\"1\" class=\"dataframe\">\n",
              "  <thead>\n",
              "    <tr style=\"text-align: right;\">\n",
              "      <th></th>\n",
              "      <th>id</th>\n",
              "      <th>timestamp</th>\n",
              "      <th>full_sq</th>\n",
              "      <th>life_sq</th>\n",
              "      <th>floor</th>\n",
              "      <th>max_floor</th>\n",
              "      <th>material</th>\n",
              "      <th>build_year</th>\n",
              "      <th>num_room</th>\n",
              "      <th>kitch_sq</th>\n",
              "      <th>state</th>\n",
              "      <th>product_type</th>\n",
              "      <th>sub_area</th>\n",
              "      <th>area_m</th>\n",
              "      <th>raion_popul</th>\n",
              "      <th>green_zone_part</th>\n",
              "      <th>indust_part</th>\n",
              "      <th>children_preschool</th>\n",
              "      <th>preschool_quota</th>\n",
              "      <th>preschool_education_centers_raion</th>\n",
              "      <th>children_school</th>\n",
              "      <th>school_quota</th>\n",
              "      <th>school_education_centers_raion</th>\n",
              "      <th>school_education_centers_top_20_raion</th>\n",
              "      <th>hospital_beds_raion</th>\n",
              "      <th>healthcare_centers_raion</th>\n",
              "      <th>university_top_20_raion</th>\n",
              "      <th>sport_objects_raion</th>\n",
              "      <th>additional_education_raion</th>\n",
              "      <th>culture_objects_top_25</th>\n",
              "      <th>culture_objects_top_25_raion</th>\n",
              "      <th>shopping_centers_raion</th>\n",
              "      <th>office_raion</th>\n",
              "      <th>thermal_power_plant_raion</th>\n",
              "      <th>incineration_raion</th>\n",
              "      <th>oil_chemistry_raion</th>\n",
              "      <th>radiation_raion</th>\n",
              "      <th>railroad_terminal_raion</th>\n",
              "      <th>big_market_raion</th>\n",
              "      <th>nuclear_reactor_raion</th>\n",
              "      <th>...</th>\n",
              "      <th>build_count_wood_ismissing</th>\n",
              "      <th>build_count_frame_ismissing</th>\n",
              "      <th>build_count_brick_ismissing</th>\n",
              "      <th>build_count_monolith_ismissing</th>\n",
              "      <th>build_count_panel_ismissing</th>\n",
              "      <th>build_count_foam_ismissing</th>\n",
              "      <th>build_count_slag_ismissing</th>\n",
              "      <th>build_count_mix_ismissing</th>\n",
              "      <th>raion_build_count_with_builddate_info_ismissing</th>\n",
              "      <th>build_count_before_1920_ismissing</th>\n",
              "      <th>build_count_1921-1945_ismissing</th>\n",
              "      <th>build_count_1946-1970_ismissing</th>\n",
              "      <th>build_count_1971-1995_ismissing</th>\n",
              "      <th>build_count_after_1995_ismissing</th>\n",
              "      <th>metro_min_walk_ismissing</th>\n",
              "      <th>metro_km_walk_ismissing</th>\n",
              "      <th>railroad_station_walk_km_ismissing</th>\n",
              "      <th>railroad_station_walk_min_ismissing</th>\n",
              "      <th>ID_railroad_station_walk_ismissing</th>\n",
              "      <th>cafe_sum_500_min_price_avg_ismissing</th>\n",
              "      <th>cafe_sum_500_max_price_avg_ismissing</th>\n",
              "      <th>cafe_avg_price_500_ismissing</th>\n",
              "      <th>cafe_sum_1000_min_price_avg_ismissing</th>\n",
              "      <th>cafe_sum_1000_max_price_avg_ismissing</th>\n",
              "      <th>cafe_avg_price_1000_ismissing</th>\n",
              "      <th>cafe_sum_1500_min_price_avg_ismissing</th>\n",
              "      <th>cafe_sum_1500_max_price_avg_ismissing</th>\n",
              "      <th>cafe_avg_price_1500_ismissing</th>\n",
              "      <th>cafe_sum_2000_min_price_avg_ismissing</th>\n",
              "      <th>cafe_sum_2000_max_price_avg_ismissing</th>\n",
              "      <th>cafe_avg_price_2000_ismissing</th>\n",
              "      <th>cafe_sum_3000_min_price_avg_ismissing</th>\n",
              "      <th>cafe_sum_3000_max_price_avg_ismissing</th>\n",
              "      <th>cafe_avg_price_3000_ismissing</th>\n",
              "      <th>prom_part_5000_ismissing</th>\n",
              "      <th>cafe_sum_5000_min_price_avg_ismissing</th>\n",
              "      <th>cafe_sum_5000_max_price_avg_ismissing</th>\n",
              "      <th>cafe_avg_price_5000_ismissing</th>\n",
              "      <th>num_missing</th>\n",
              "      <th>sub_area_lower</th>\n",
              "    </tr>\n",
              "  </thead>\n",
              "  <tbody>\n",
              "    <tr>\n",
              "      <th>0</th>\n",
              "      <td>1</td>\n",
              "      <td>2011-08-20</td>\n",
              "      <td>43</td>\n",
              "      <td>27.0</td>\n",
              "      <td>4.0</td>\n",
              "      <td>12.0</td>\n",
              "      <td>1.0</td>\n",
              "      <td>1979.0</td>\n",
              "      <td>2.0</td>\n",
              "      <td>6.0</td>\n",
              "      <td>2.0</td>\n",
              "      <td>Investment</td>\n",
              "      <td>Bibirevo</td>\n",
              "      <td>6.407578e+06</td>\n",
              "      <td>155572</td>\n",
              "      <td>0.189727</td>\n",
              "      <td>0.000070</td>\n",
              "      <td>9576</td>\n",
              "      <td>5001.0</td>\n",
              "      <td>5</td>\n",
              "      <td>10309</td>\n",
              "      <td>11065.0</td>\n",
              "      <td>5</td>\n",
              "      <td>0</td>\n",
              "      <td>240.0</td>\n",
              "      <td>1</td>\n",
              "      <td>0</td>\n",
              "      <td>7</td>\n",
              "      <td>3</td>\n",
              "      <td>no</td>\n",
              "      <td>0</td>\n",
              "      <td>16</td>\n",
              "      <td>1</td>\n",
              "      <td>no</td>\n",
              "      <td>no</td>\n",
              "      <td>no</td>\n",
              "      <td>no</td>\n",
              "      <td>no</td>\n",
              "      <td>no</td>\n",
              "      <td>no</td>\n",
              "      <td>...</td>\n",
              "      <td>False</td>\n",
              "      <td>False</td>\n",
              "      <td>False</td>\n",
              "      <td>False</td>\n",
              "      <td>False</td>\n",
              "      <td>False</td>\n",
              "      <td>False</td>\n",
              "      <td>False</td>\n",
              "      <td>False</td>\n",
              "      <td>False</td>\n",
              "      <td>False</td>\n",
              "      <td>False</td>\n",
              "      <td>False</td>\n",
              "      <td>False</td>\n",
              "      <td>False</td>\n",
              "      <td>False</td>\n",
              "      <td>False</td>\n",
              "      <td>False</td>\n",
              "      <td>False</td>\n",
              "      <td>True</td>\n",
              "      <td>True</td>\n",
              "      <td>True</td>\n",
              "      <td>False</td>\n",
              "      <td>False</td>\n",
              "      <td>False</td>\n",
              "      <td>False</td>\n",
              "      <td>False</td>\n",
              "      <td>False</td>\n",
              "      <td>False</td>\n",
              "      <td>False</td>\n",
              "      <td>False</td>\n",
              "      <td>False</td>\n",
              "      <td>False</td>\n",
              "      <td>False</td>\n",
              "      <td>False</td>\n",
              "      <td>False</td>\n",
              "      <td>False</td>\n",
              "      <td>False</td>\n",
              "      <td>9</td>\n",
              "      <td>bibirevo</td>\n",
              "    </tr>\n",
              "    <tr>\n",
              "      <th>1</th>\n",
              "      <td>2</td>\n",
              "      <td>2011-08-23</td>\n",
              "      <td>34</td>\n",
              "      <td>19.0</td>\n",
              "      <td>3.0</td>\n",
              "      <td>12.0</td>\n",
              "      <td>1.0</td>\n",
              "      <td>1979.0</td>\n",
              "      <td>2.0</td>\n",
              "      <td>6.0</td>\n",
              "      <td>2.0</td>\n",
              "      <td>Investment</td>\n",
              "      <td>Nagatinskij Zaton</td>\n",
              "      <td>9.589337e+06</td>\n",
              "      <td>115352</td>\n",
              "      <td>0.372602</td>\n",
              "      <td>0.049637</td>\n",
              "      <td>6880</td>\n",
              "      <td>3119.0</td>\n",
              "      <td>5</td>\n",
              "      <td>7759</td>\n",
              "      <td>6237.0</td>\n",
              "      <td>8</td>\n",
              "      <td>0</td>\n",
              "      <td>229.0</td>\n",
              "      <td>1</td>\n",
              "      <td>0</td>\n",
              "      <td>6</td>\n",
              "      <td>1</td>\n",
              "      <td>yes</td>\n",
              "      <td>1</td>\n",
              "      <td>3</td>\n",
              "      <td>0</td>\n",
              "      <td>no</td>\n",
              "      <td>no</td>\n",
              "      <td>no</td>\n",
              "      <td>no</td>\n",
              "      <td>no</td>\n",
              "      <td>no</td>\n",
              "      <td>no</td>\n",
              "      <td>...</td>\n",
              "      <td>False</td>\n",
              "      <td>False</td>\n",
              "      <td>False</td>\n",
              "      <td>False</td>\n",
              "      <td>False</td>\n",
              "      <td>False</td>\n",
              "      <td>False</td>\n",
              "      <td>False</td>\n",
              "      <td>False</td>\n",
              "      <td>False</td>\n",
              "      <td>False</td>\n",
              "      <td>False</td>\n",
              "      <td>False</td>\n",
              "      <td>False</td>\n",
              "      <td>False</td>\n",
              "      <td>False</td>\n",
              "      <td>False</td>\n",
              "      <td>False</td>\n",
              "      <td>False</td>\n",
              "      <td>False</td>\n",
              "      <td>False</td>\n",
              "      <td>False</td>\n",
              "      <td>False</td>\n",
              "      <td>False</td>\n",
              "      <td>False</td>\n",
              "      <td>False</td>\n",
              "      <td>False</td>\n",
              "      <td>False</td>\n",
              "      <td>False</td>\n",
              "      <td>False</td>\n",
              "      <td>False</td>\n",
              "      <td>False</td>\n",
              "      <td>False</td>\n",
              "      <td>False</td>\n",
              "      <td>False</td>\n",
              "      <td>False</td>\n",
              "      <td>False</td>\n",
              "      <td>False</td>\n",
              "      <td>6</td>\n",
              "      <td>nagatinskij zaton</td>\n",
              "    </tr>\n",
              "    <tr>\n",
              "      <th>2</th>\n",
              "      <td>3</td>\n",
              "      <td>2011-08-27</td>\n",
              "      <td>43</td>\n",
              "      <td>29.0</td>\n",
              "      <td>2.0</td>\n",
              "      <td>12.0</td>\n",
              "      <td>1.0</td>\n",
              "      <td>1979.0</td>\n",
              "      <td>2.0</td>\n",
              "      <td>6.0</td>\n",
              "      <td>2.0</td>\n",
              "      <td>Investment</td>\n",
              "      <td>Tekstil'shhiki</td>\n",
              "      <td>4.808270e+06</td>\n",
              "      <td>101708</td>\n",
              "      <td>0.112560</td>\n",
              "      <td>0.118537</td>\n",
              "      <td>5879</td>\n",
              "      <td>1463.0</td>\n",
              "      <td>4</td>\n",
              "      <td>6207</td>\n",
              "      <td>5580.0</td>\n",
              "      <td>7</td>\n",
              "      <td>0</td>\n",
              "      <td>1183.0</td>\n",
              "      <td>1</td>\n",
              "      <td>0</td>\n",
              "      <td>5</td>\n",
              "      <td>1</td>\n",
              "      <td>no</td>\n",
              "      <td>0</td>\n",
              "      <td>0</td>\n",
              "      <td>1</td>\n",
              "      <td>no</td>\n",
              "      <td>no</td>\n",
              "      <td>no</td>\n",
              "      <td>yes</td>\n",
              "      <td>no</td>\n",
              "      <td>no</td>\n",
              "      <td>no</td>\n",
              "      <td>...</td>\n",
              "      <td>False</td>\n",
              "      <td>False</td>\n",
              "      <td>False</td>\n",
              "      <td>False</td>\n",
              "      <td>False</td>\n",
              "      <td>False</td>\n",
              "      <td>False</td>\n",
              "      <td>False</td>\n",
              "      <td>False</td>\n",
              "      <td>False</td>\n",
              "      <td>False</td>\n",
              "      <td>False</td>\n",
              "      <td>False</td>\n",
              "      <td>False</td>\n",
              "      <td>False</td>\n",
              "      <td>False</td>\n",
              "      <td>False</td>\n",
              "      <td>False</td>\n",
              "      <td>False</td>\n",
              "      <td>False</td>\n",
              "      <td>False</td>\n",
              "      <td>False</td>\n",
              "      <td>False</td>\n",
              "      <td>False</td>\n",
              "      <td>False</td>\n",
              "      <td>False</td>\n",
              "      <td>False</td>\n",
              "      <td>False</td>\n",
              "      <td>False</td>\n",
              "      <td>False</td>\n",
              "      <td>False</td>\n",
              "      <td>False</td>\n",
              "      <td>False</td>\n",
              "      <td>False</td>\n",
              "      <td>False</td>\n",
              "      <td>False</td>\n",
              "      <td>False</td>\n",
              "      <td>False</td>\n",
              "      <td>6</td>\n",
              "      <td>tekstil'shhiki</td>\n",
              "    </tr>\n",
              "    <tr>\n",
              "      <th>3</th>\n",
              "      <td>4</td>\n",
              "      <td>2011-09-01</td>\n",
              "      <td>89</td>\n",
              "      <td>50.0</td>\n",
              "      <td>9.0</td>\n",
              "      <td>12.0</td>\n",
              "      <td>1.0</td>\n",
              "      <td>1979.0</td>\n",
              "      <td>2.0</td>\n",
              "      <td>6.0</td>\n",
              "      <td>2.0</td>\n",
              "      <td>Investment</td>\n",
              "      <td>Mitino</td>\n",
              "      <td>1.258354e+07</td>\n",
              "      <td>178473</td>\n",
              "      <td>0.194703</td>\n",
              "      <td>0.069753</td>\n",
              "      <td>13087</td>\n",
              "      <td>6839.0</td>\n",
              "      <td>9</td>\n",
              "      <td>13670</td>\n",
              "      <td>17063.0</td>\n",
              "      <td>10</td>\n",
              "      <td>0</td>\n",
              "      <td>990.0</td>\n",
              "      <td>1</td>\n",
              "      <td>0</td>\n",
              "      <td>17</td>\n",
              "      <td>6</td>\n",
              "      <td>no</td>\n",
              "      <td>0</td>\n",
              "      <td>11</td>\n",
              "      <td>4</td>\n",
              "      <td>no</td>\n",
              "      <td>no</td>\n",
              "      <td>no</td>\n",
              "      <td>no</td>\n",
              "      <td>no</td>\n",
              "      <td>no</td>\n",
              "      <td>no</td>\n",
              "      <td>...</td>\n",
              "      <td>False</td>\n",
              "      <td>False</td>\n",
              "      <td>False</td>\n",
              "      <td>False</td>\n",
              "      <td>False</td>\n",
              "      <td>False</td>\n",
              "      <td>False</td>\n",
              "      <td>False</td>\n",
              "      <td>False</td>\n",
              "      <td>False</td>\n",
              "      <td>False</td>\n",
              "      <td>False</td>\n",
              "      <td>False</td>\n",
              "      <td>False</td>\n",
              "      <td>False</td>\n",
              "      <td>False</td>\n",
              "      <td>False</td>\n",
              "      <td>False</td>\n",
              "      <td>False</td>\n",
              "      <td>False</td>\n",
              "      <td>False</td>\n",
              "      <td>False</td>\n",
              "      <td>False</td>\n",
              "      <td>False</td>\n",
              "      <td>False</td>\n",
              "      <td>False</td>\n",
              "      <td>False</td>\n",
              "      <td>False</td>\n",
              "      <td>False</td>\n",
              "      <td>False</td>\n",
              "      <td>False</td>\n",
              "      <td>False</td>\n",
              "      <td>False</td>\n",
              "      <td>False</td>\n",
              "      <td>False</td>\n",
              "      <td>False</td>\n",
              "      <td>False</td>\n",
              "      <td>False</td>\n",
              "      <td>7</td>\n",
              "      <td>mitino</td>\n",
              "    </tr>\n",
              "    <tr>\n",
              "      <th>4</th>\n",
              "      <td>5</td>\n",
              "      <td>2011-09-05</td>\n",
              "      <td>77</td>\n",
              "      <td>77.0</td>\n",
              "      <td>4.0</td>\n",
              "      <td>12.0</td>\n",
              "      <td>1.0</td>\n",
              "      <td>1979.0</td>\n",
              "      <td>2.0</td>\n",
              "      <td>6.0</td>\n",
              "      <td>2.0</td>\n",
              "      <td>Investment</td>\n",
              "      <td>Basmannoe</td>\n",
              "      <td>8.398461e+06</td>\n",
              "      <td>108171</td>\n",
              "      <td>0.015234</td>\n",
              "      <td>0.037316</td>\n",
              "      <td>5706</td>\n",
              "      <td>3240.0</td>\n",
              "      <td>7</td>\n",
              "      <td>6748</td>\n",
              "      <td>7770.0</td>\n",
              "      <td>9</td>\n",
              "      <td>0</td>\n",
              "      <td>562.0</td>\n",
              "      <td>4</td>\n",
              "      <td>2</td>\n",
              "      <td>25</td>\n",
              "      <td>2</td>\n",
              "      <td>no</td>\n",
              "      <td>0</td>\n",
              "      <td>10</td>\n",
              "      <td>93</td>\n",
              "      <td>no</td>\n",
              "      <td>no</td>\n",
              "      <td>no</td>\n",
              "      <td>yes</td>\n",
              "      <td>yes</td>\n",
              "      <td>no</td>\n",
              "      <td>no</td>\n",
              "      <td>...</td>\n",
              "      <td>False</td>\n",
              "      <td>False</td>\n",
              "      <td>False</td>\n",
              "      <td>False</td>\n",
              "      <td>False</td>\n",
              "      <td>False</td>\n",
              "      <td>False</td>\n",
              "      <td>False</td>\n",
              "      <td>False</td>\n",
              "      <td>False</td>\n",
              "      <td>False</td>\n",
              "      <td>False</td>\n",
              "      <td>False</td>\n",
              "      <td>False</td>\n",
              "      <td>False</td>\n",
              "      <td>False</td>\n",
              "      <td>False</td>\n",
              "      <td>False</td>\n",
              "      <td>False</td>\n",
              "      <td>False</td>\n",
              "      <td>False</td>\n",
              "      <td>False</td>\n",
              "      <td>False</td>\n",
              "      <td>False</td>\n",
              "      <td>False</td>\n",
              "      <td>False</td>\n",
              "      <td>False</td>\n",
              "      <td>False</td>\n",
              "      <td>False</td>\n",
              "      <td>False</td>\n",
              "      <td>False</td>\n",
              "      <td>False</td>\n",
              "      <td>False</td>\n",
              "      <td>False</td>\n",
              "      <td>False</td>\n",
              "      <td>False</td>\n",
              "      <td>False</td>\n",
              "      <td>False</td>\n",
              "      <td>6</td>\n",
              "      <td>basmannoe</td>\n",
              "    </tr>\n",
              "    <tr>\n",
              "      <th>...</th>\n",
              "      <td>...</td>\n",
              "      <td>...</td>\n",
              "      <td>...</td>\n",
              "      <td>...</td>\n",
              "      <td>...</td>\n",
              "      <td>...</td>\n",
              "      <td>...</td>\n",
              "      <td>...</td>\n",
              "      <td>...</td>\n",
              "      <td>...</td>\n",
              "      <td>...</td>\n",
              "      <td>...</td>\n",
              "      <td>...</td>\n",
              "      <td>...</td>\n",
              "      <td>...</td>\n",
              "      <td>...</td>\n",
              "      <td>...</td>\n",
              "      <td>...</td>\n",
              "      <td>...</td>\n",
              "      <td>...</td>\n",
              "      <td>...</td>\n",
              "      <td>...</td>\n",
              "      <td>...</td>\n",
              "      <td>...</td>\n",
              "      <td>...</td>\n",
              "      <td>...</td>\n",
              "      <td>...</td>\n",
              "      <td>...</td>\n",
              "      <td>...</td>\n",
              "      <td>...</td>\n",
              "      <td>...</td>\n",
              "      <td>...</td>\n",
              "      <td>...</td>\n",
              "      <td>...</td>\n",
              "      <td>...</td>\n",
              "      <td>...</td>\n",
              "      <td>...</td>\n",
              "      <td>...</td>\n",
              "      <td>...</td>\n",
              "      <td>...</td>\n",
              "      <td>...</td>\n",
              "      <td>...</td>\n",
              "      <td>...</td>\n",
              "      <td>...</td>\n",
              "      <td>...</td>\n",
              "      <td>...</td>\n",
              "      <td>...</td>\n",
              "      <td>...</td>\n",
              "      <td>...</td>\n",
              "      <td>...</td>\n",
              "      <td>...</td>\n",
              "      <td>...</td>\n",
              "      <td>...</td>\n",
              "      <td>...</td>\n",
              "      <td>...</td>\n",
              "      <td>...</td>\n",
              "      <td>...</td>\n",
              "      <td>...</td>\n",
              "      <td>...</td>\n",
              "      <td>...</td>\n",
              "      <td>...</td>\n",
              "      <td>...</td>\n",
              "      <td>...</td>\n",
              "      <td>...</td>\n",
              "      <td>...</td>\n",
              "      <td>...</td>\n",
              "      <td>...</td>\n",
              "      <td>...</td>\n",
              "      <td>...</td>\n",
              "      <td>...</td>\n",
              "      <td>...</td>\n",
              "      <td>...</td>\n",
              "      <td>...</td>\n",
              "      <td>...</td>\n",
              "      <td>...</td>\n",
              "      <td>...</td>\n",
              "      <td>...</td>\n",
              "      <td>...</td>\n",
              "      <td>...</td>\n",
              "      <td>...</td>\n",
              "      <td>...</td>\n",
              "    </tr>\n",
              "    <tr>\n",
              "      <th>30466</th>\n",
              "      <td>30469</td>\n",
              "      <td>2015-06-30</td>\n",
              "      <td>44</td>\n",
              "      <td>27.0</td>\n",
              "      <td>7.0</td>\n",
              "      <td>9.0</td>\n",
              "      <td>1.0</td>\n",
              "      <td>1975.0</td>\n",
              "      <td>2.0</td>\n",
              "      <td>6.0</td>\n",
              "      <td>3.0</td>\n",
              "      <td>Investment</td>\n",
              "      <td>Otradnoe</td>\n",
              "      <td>1.005305e+07</td>\n",
              "      <td>175518</td>\n",
              "      <td>0.096270</td>\n",
              "      <td>0.300323</td>\n",
              "      <td>9753</td>\n",
              "      <td>5088.0</td>\n",
              "      <td>4</td>\n",
              "      <td>10311</td>\n",
              "      <td>12721.0</td>\n",
              "      <td>4</td>\n",
              "      <td>0</td>\n",
              "      <td>990.0</td>\n",
              "      <td>1</td>\n",
              "      <td>0</td>\n",
              "      <td>10</td>\n",
              "      <td>3</td>\n",
              "      <td>no</td>\n",
              "      <td>0</td>\n",
              "      <td>9</td>\n",
              "      <td>6</td>\n",
              "      <td>no</td>\n",
              "      <td>yes</td>\n",
              "      <td>no</td>\n",
              "      <td>yes</td>\n",
              "      <td>no</td>\n",
              "      <td>no</td>\n",
              "      <td>no</td>\n",
              "      <td>...</td>\n",
              "      <td>False</td>\n",
              "      <td>False</td>\n",
              "      <td>False</td>\n",
              "      <td>False</td>\n",
              "      <td>False</td>\n",
              "      <td>False</td>\n",
              "      <td>False</td>\n",
              "      <td>False</td>\n",
              "      <td>False</td>\n",
              "      <td>False</td>\n",
              "      <td>False</td>\n",
              "      <td>False</td>\n",
              "      <td>False</td>\n",
              "      <td>False</td>\n",
              "      <td>False</td>\n",
              "      <td>False</td>\n",
              "      <td>False</td>\n",
              "      <td>False</td>\n",
              "      <td>False</td>\n",
              "      <td>False</td>\n",
              "      <td>False</td>\n",
              "      <td>False</td>\n",
              "      <td>False</td>\n",
              "      <td>False</td>\n",
              "      <td>False</td>\n",
              "      <td>False</td>\n",
              "      <td>False</td>\n",
              "      <td>False</td>\n",
              "      <td>False</td>\n",
              "      <td>False</td>\n",
              "      <td>False</td>\n",
              "      <td>False</td>\n",
              "      <td>False</td>\n",
              "      <td>False</td>\n",
              "      <td>False</td>\n",
              "      <td>False</td>\n",
              "      <td>False</td>\n",
              "      <td>False</td>\n",
              "      <td>1</td>\n",
              "      <td>otradnoe</td>\n",
              "    </tr>\n",
              "    <tr>\n",
              "      <th>30467</th>\n",
              "      <td>30470</td>\n",
              "      <td>2015-06-30</td>\n",
              "      <td>86</td>\n",
              "      <td>59.0</td>\n",
              "      <td>3.0</td>\n",
              "      <td>9.0</td>\n",
              "      <td>2.0</td>\n",
              "      <td>1935.0</td>\n",
              "      <td>4.0</td>\n",
              "      <td>10.0</td>\n",
              "      <td>3.0</td>\n",
              "      <td>Investment</td>\n",
              "      <td>Tverskoe</td>\n",
              "      <td>7.307411e+06</td>\n",
              "      <td>75377</td>\n",
              "      <td>0.065444</td>\n",
              "      <td>0.000078</td>\n",
              "      <td>4237</td>\n",
              "      <td>1874.0</td>\n",
              "      <td>4</td>\n",
              "      <td>6398</td>\n",
              "      <td>6772.0</td>\n",
              "      <td>4</td>\n",
              "      <td>1</td>\n",
              "      <td>1046.0</td>\n",
              "      <td>3</td>\n",
              "      <td>2</td>\n",
              "      <td>29</td>\n",
              "      <td>16</td>\n",
              "      <td>yes</td>\n",
              "      <td>10</td>\n",
              "      <td>23</td>\n",
              "      <td>141</td>\n",
              "      <td>no</td>\n",
              "      <td>no</td>\n",
              "      <td>no</td>\n",
              "      <td>yes</td>\n",
              "      <td>yes</td>\n",
              "      <td>no</td>\n",
              "      <td>no</td>\n",
              "      <td>...</td>\n",
              "      <td>False</td>\n",
              "      <td>False</td>\n",
              "      <td>False</td>\n",
              "      <td>False</td>\n",
              "      <td>False</td>\n",
              "      <td>False</td>\n",
              "      <td>False</td>\n",
              "      <td>False</td>\n",
              "      <td>False</td>\n",
              "      <td>False</td>\n",
              "      <td>False</td>\n",
              "      <td>False</td>\n",
              "      <td>False</td>\n",
              "      <td>False</td>\n",
              "      <td>False</td>\n",
              "      <td>False</td>\n",
              "      <td>False</td>\n",
              "      <td>False</td>\n",
              "      <td>False</td>\n",
              "      <td>False</td>\n",
              "      <td>False</td>\n",
              "      <td>False</td>\n",
              "      <td>False</td>\n",
              "      <td>False</td>\n",
              "      <td>False</td>\n",
              "      <td>False</td>\n",
              "      <td>False</td>\n",
              "      <td>False</td>\n",
              "      <td>False</td>\n",
              "      <td>False</td>\n",
              "      <td>False</td>\n",
              "      <td>False</td>\n",
              "      <td>False</td>\n",
              "      <td>False</td>\n",
              "      <td>False</td>\n",
              "      <td>False</td>\n",
              "      <td>False</td>\n",
              "      <td>False</td>\n",
              "      <td>0</td>\n",
              "      <td>tverskoe</td>\n",
              "    </tr>\n",
              "    <tr>\n",
              "      <th>30468</th>\n",
              "      <td>30471</td>\n",
              "      <td>2015-06-30</td>\n",
              "      <td>45</td>\n",
              "      <td>30.0</td>\n",
              "      <td>10.0</td>\n",
              "      <td>20.0</td>\n",
              "      <td>1.0</td>\n",
              "      <td>1979.0</td>\n",
              "      <td>1.0</td>\n",
              "      <td>1.0</td>\n",
              "      <td>1.0</td>\n",
              "      <td>OwnerOccupier</td>\n",
              "      <td>Poselenie Vnukovskoe</td>\n",
              "      <td>2.553630e+07</td>\n",
              "      <td>4001</td>\n",
              "      <td>0.496315</td>\n",
              "      <td>0.007122</td>\n",
              "      <td>275</td>\n",
              "      <td>2854.0</td>\n",
              "      <td>0</td>\n",
              "      <td>264</td>\n",
              "      <td>7377.0</td>\n",
              "      <td>0</td>\n",
              "      <td>0</td>\n",
              "      <td>990.0</td>\n",
              "      <td>0</td>\n",
              "      <td>0</td>\n",
              "      <td>0</td>\n",
              "      <td>0</td>\n",
              "      <td>no</td>\n",
              "      <td>0</td>\n",
              "      <td>1</td>\n",
              "      <td>0</td>\n",
              "      <td>no</td>\n",
              "      <td>no</td>\n",
              "      <td>no</td>\n",
              "      <td>no</td>\n",
              "      <td>no</td>\n",
              "      <td>no</td>\n",
              "      <td>no</td>\n",
              "      <td>...</td>\n",
              "      <td>True</td>\n",
              "      <td>True</td>\n",
              "      <td>True</td>\n",
              "      <td>True</td>\n",
              "      <td>True</td>\n",
              "      <td>True</td>\n",
              "      <td>True</td>\n",
              "      <td>True</td>\n",
              "      <td>True</td>\n",
              "      <td>True</td>\n",
              "      <td>True</td>\n",
              "      <td>True</td>\n",
              "      <td>True</td>\n",
              "      <td>True</td>\n",
              "      <td>False</td>\n",
              "      <td>False</td>\n",
              "      <td>False</td>\n",
              "      <td>False</td>\n",
              "      <td>False</td>\n",
              "      <td>False</td>\n",
              "      <td>False</td>\n",
              "      <td>False</td>\n",
              "      <td>False</td>\n",
              "      <td>False</td>\n",
              "      <td>False</td>\n",
              "      <td>False</td>\n",
              "      <td>False</td>\n",
              "      <td>False</td>\n",
              "      <td>False</td>\n",
              "      <td>False</td>\n",
              "      <td>False</td>\n",
              "      <td>False</td>\n",
              "      <td>False</td>\n",
              "      <td>False</td>\n",
              "      <td>False</td>\n",
              "      <td>False</td>\n",
              "      <td>False</td>\n",
              "      <td>False</td>\n",
              "      <td>21</td>\n",
              "      <td>poselenie vnukovskoe</td>\n",
              "    </tr>\n",
              "    <tr>\n",
              "      <th>30469</th>\n",
              "      <td>30472</td>\n",
              "      <td>2015-06-30</td>\n",
              "      <td>64</td>\n",
              "      <td>32.0</td>\n",
              "      <td>5.0</td>\n",
              "      <td>15.0</td>\n",
              "      <td>1.0</td>\n",
              "      <td>2003.0</td>\n",
              "      <td>2.0</td>\n",
              "      <td>11.0</td>\n",
              "      <td>2.0</td>\n",
              "      <td>Investment</td>\n",
              "      <td>Obruchevskoe</td>\n",
              "      <td>6.050065e+06</td>\n",
              "      <td>78616</td>\n",
              "      <td>0.167526</td>\n",
              "      <td>0.093443</td>\n",
              "      <td>4215</td>\n",
              "      <td>2372.0</td>\n",
              "      <td>6</td>\n",
              "      <td>4635</td>\n",
              "      <td>6083.0</td>\n",
              "      <td>8</td>\n",
              "      <td>0</td>\n",
              "      <td>3300.0</td>\n",
              "      <td>2</td>\n",
              "      <td>1</td>\n",
              "      <td>11</td>\n",
              "      <td>1</td>\n",
              "      <td>no</td>\n",
              "      <td>0</td>\n",
              "      <td>4</td>\n",
              "      <td>5</td>\n",
              "      <td>no</td>\n",
              "      <td>no</td>\n",
              "      <td>no</td>\n",
              "      <td>yes</td>\n",
              "      <td>no</td>\n",
              "      <td>no</td>\n",
              "      <td>no</td>\n",
              "      <td>...</td>\n",
              "      <td>False</td>\n",
              "      <td>False</td>\n",
              "      <td>False</td>\n",
              "      <td>False</td>\n",
              "      <td>False</td>\n",
              "      <td>False</td>\n",
              "      <td>False</td>\n",
              "      <td>False</td>\n",
              "      <td>False</td>\n",
              "      <td>False</td>\n",
              "      <td>False</td>\n",
              "      <td>False</td>\n",
              "      <td>False</td>\n",
              "      <td>False</td>\n",
              "      <td>False</td>\n",
              "      <td>False</td>\n",
              "      <td>False</td>\n",
              "      <td>False</td>\n",
              "      <td>False</td>\n",
              "      <td>False</td>\n",
              "      <td>False</td>\n",
              "      <td>False</td>\n",
              "      <td>False</td>\n",
              "      <td>False</td>\n",
              "      <td>False</td>\n",
              "      <td>False</td>\n",
              "      <td>False</td>\n",
              "      <td>False</td>\n",
              "      <td>False</td>\n",
              "      <td>False</td>\n",
              "      <td>False</td>\n",
              "      <td>False</td>\n",
              "      <td>False</td>\n",
              "      <td>False</td>\n",
              "      <td>False</td>\n",
              "      <td>False</td>\n",
              "      <td>False</td>\n",
              "      <td>False</td>\n",
              "      <td>0</td>\n",
              "      <td>obruchevskoe</td>\n",
              "    </tr>\n",
              "    <tr>\n",
              "      <th>30470</th>\n",
              "      <td>30473</td>\n",
              "      <td>2015-06-30</td>\n",
              "      <td>43</td>\n",
              "      <td>28.0</td>\n",
              "      <td>1.0</td>\n",
              "      <td>9.0</td>\n",
              "      <td>1.0</td>\n",
              "      <td>1968.0</td>\n",
              "      <td>2.0</td>\n",
              "      <td>6.0</td>\n",
              "      <td>2.0</td>\n",
              "      <td>Investment</td>\n",
              "      <td>Novogireevo</td>\n",
              "      <td>4.395333e+06</td>\n",
              "      <td>94561</td>\n",
              "      <td>0.063755</td>\n",
              "      <td>0.038693</td>\n",
              "      <td>6120</td>\n",
              "      <td>2215.0</td>\n",
              "      <td>4</td>\n",
              "      <td>6533</td>\n",
              "      <td>5824.0</td>\n",
              "      <td>4</td>\n",
              "      <td>0</td>\n",
              "      <td>1015.0</td>\n",
              "      <td>2</td>\n",
              "      <td>0</td>\n",
              "      <td>7</td>\n",
              "      <td>1</td>\n",
              "      <td>no</td>\n",
              "      <td>0</td>\n",
              "      <td>5</td>\n",
              "      <td>1</td>\n",
              "      <td>no</td>\n",
              "      <td>no</td>\n",
              "      <td>no</td>\n",
              "      <td>yes</td>\n",
              "      <td>no</td>\n",
              "      <td>no</td>\n",
              "      <td>no</td>\n",
              "      <td>...</td>\n",
              "      <td>False</td>\n",
              "      <td>False</td>\n",
              "      <td>False</td>\n",
              "      <td>False</td>\n",
              "      <td>False</td>\n",
              "      <td>False</td>\n",
              "      <td>False</td>\n",
              "      <td>False</td>\n",
              "      <td>False</td>\n",
              "      <td>False</td>\n",
              "      <td>False</td>\n",
              "      <td>False</td>\n",
              "      <td>False</td>\n",
              "      <td>False</td>\n",
              "      <td>False</td>\n",
              "      <td>False</td>\n",
              "      <td>False</td>\n",
              "      <td>False</td>\n",
              "      <td>False</td>\n",
              "      <td>False</td>\n",
              "      <td>False</td>\n",
              "      <td>False</td>\n",
              "      <td>False</td>\n",
              "      <td>False</td>\n",
              "      <td>False</td>\n",
              "      <td>False</td>\n",
              "      <td>False</td>\n",
              "      <td>False</td>\n",
              "      <td>False</td>\n",
              "      <td>False</td>\n",
              "      <td>False</td>\n",
              "      <td>False</td>\n",
              "      <td>False</td>\n",
              "      <td>False</td>\n",
              "      <td>False</td>\n",
              "      <td>False</td>\n",
              "      <td>False</td>\n",
              "      <td>False</td>\n",
              "      <td>0</td>\n",
              "      <td>novogireevo</td>\n",
              "    </tr>\n",
              "  </tbody>\n",
              "</table>\n",
              "<p>30471 rows × 345 columns</p>\n",
              "</div>"
            ],
            "text/plain": [
              "          id   timestamp  ...  num_missing        sub_area_lower\n",
              "0          1  2011-08-20  ...            9              bibirevo\n",
              "1          2  2011-08-23  ...            6     nagatinskij zaton\n",
              "2          3  2011-08-27  ...            6        tekstil'shhiki\n",
              "3          4  2011-09-01  ...            7                mitino\n",
              "4          5  2011-09-05  ...            6             basmannoe\n",
              "...      ...         ...  ...          ...                   ...\n",
              "30466  30469  2015-06-30  ...            1              otradnoe\n",
              "30467  30470  2015-06-30  ...            0              tverskoe\n",
              "30468  30471  2015-06-30  ...           21  poselenie vnukovskoe\n",
              "30469  30472  2015-06-30  ...            0          obruchevskoe\n",
              "30470  30473  2015-06-30  ...            0           novogireevo\n",
              "\n",
              "[30471 rows x 345 columns]"
            ]
          },
          "metadata": {
            "tags": []
          },
          "execution_count": 33
        }
      ]
    },
    {
      "cell_type": "markdown",
      "metadata": {
        "id": "58tFetZzJp8N"
      },
      "source": [
        "**¿Qué hacer?**\n",
        "\n",
        "Podemos convertirlo y extraer los valores de fecha u hora usando el código que se muestra a continuación. Después de esto, es más fácil analizar el grupo de volumen de transacciones por año o mes."
      ]
    },
    {
      "cell_type": "code",
      "metadata": {
        "colab": {
          "base_uri": "https://localhost:8080/"
        },
        "id": "aiMvghE9JvnJ",
        "outputId": "7c6ff0ed-94d4-4c76-a401-a47a7b020234"
      },
      "source": [
        "df['timestamp_dt'] = pd.to_datetime(df['timestamp'], format='%Y-%m-%d')\n",
        "df['year'] = df['timestamp_dt'].dt.year\n",
        "df['month'] = df['timestamp_dt'].dt.month\n",
        "df['weekday'] = df['timestamp_dt'].dt.weekday\n",
        "\n",
        "print(df['year'].value_counts(dropna=False))\n",
        "print()\n",
        "print(df['month'].value_counts(dropna=False))"
      ],
      "execution_count": 27,
      "outputs": [
        {
          "output_type": "stream",
          "text": [
            "2014    13662\n",
            "2013     7978\n",
            "2012     4839\n",
            "2015     3239\n",
            "2011      753\n",
            "Name: year, dtype: int64\n",
            "\n",
            "12    3400\n",
            "4     3191\n",
            "3     2972\n",
            "11    2970\n",
            "10    2736\n",
            "6     2570\n",
            "5     2496\n",
            "9     2346\n",
            "2     2275\n",
            "7     1875\n",
            "8     1831\n",
            "1     1809\n",
            "Name: month, dtype: int64\n"
          ],
          "name": "stdout"
        }
      ]
    },
    {
      "cell_type": "markdown",
      "metadata": {
        "id": "plzIQnnRJ1j1"
      },
      "source": [
        "## 3: Valores categóricos\n",
        "\n",
        "Una característica categórica tiene un número limitado de valores. A veces puede haber otros valores debido a razones como los errores tipográficos.\n",
        "\n",
        "\n",
        "**¿Cómo averiguarlo?**\n",
        "\n",
        "\n",
        "Necesitamos observar la característica para descubrir esta inconsistencia. \n",
        "\n",
        "Creamos un nuevo conjunto de datos a continuación ya que no tenemos tal problema en el conjunto de datos de bienes raíces. Por ejemplo, el valor de la ciudad fue escrito con errores como \"torontoo\" y \"tronto\". Pero ambos se refieren al valor correcto \"toronto\".\n",
        "\n",
        "Una forma sencilla de identificarlos es la lógica difusa (o editar la distancia). Mide cuántas letras (distancia) necesitamos para cambiar la ortografía de un valor para que coincida con otro valor.\n",
        "Sabemos que las categorías sólo deben tener cuatro valores de \"toronto\", \"vancouver\", \"montreal\" y \"calgary\". Calculamos la distancia entre todos los valores y la palabra \"toronto\" (y \"vancouver\"). Vemos que los que pueden ser errores tipográficos tienen una distancia menor con la palabra correcta. Ya que sólo se diferencian por un par de letras.\n"
      ]
    },
    {
      "cell_type": "code",
      "metadata": {
        "colab": {
          "base_uri": "https://localhost:8080/",
          "height": 297
        },
        "id": "7pQayq4iKM6C",
        "outputId": "2273e63d-e0c7-4ea6-e114-cd9e0663bdc6"
      },
      "source": [
        "from nltk.metrics import edit_distance\n",
        "\n",
        "df_city_ex = pd.DataFrame(data={'city': ['torontoo', 'toronto', 'tronto', 'vancouver', 'vancover', 'vancouvr', 'montreal', 'calgary']})\n",
        "\n",
        "\n",
        "df_city_ex['city_distance_toronto'] = df_city_ex['city'].map(lambda x: edit_distance(x, 'toronto'))\n",
        "df_city_ex['city_distance_vancouver'] = df_city_ex['city'].map(lambda x: edit_distance(x, 'vancouver'))\n",
        "df_city_ex"
      ],
      "execution_count": 28,
      "outputs": [
        {
          "output_type": "execute_result",
          "data": {
            "text/html": [
              "<div>\n",
              "<style scoped>\n",
              "    .dataframe tbody tr th:only-of-type {\n",
              "        vertical-align: middle;\n",
              "    }\n",
              "\n",
              "    .dataframe tbody tr th {\n",
              "        vertical-align: top;\n",
              "    }\n",
              "\n",
              "    .dataframe thead th {\n",
              "        text-align: right;\n",
              "    }\n",
              "</style>\n",
              "<table border=\"1\" class=\"dataframe\">\n",
              "  <thead>\n",
              "    <tr style=\"text-align: right;\">\n",
              "      <th></th>\n",
              "      <th>city</th>\n",
              "      <th>city_distance_toronto</th>\n",
              "      <th>city_distance_vancouver</th>\n",
              "    </tr>\n",
              "  </thead>\n",
              "  <tbody>\n",
              "    <tr>\n",
              "      <th>0</th>\n",
              "      <td>torontoo</td>\n",
              "      <td>1</td>\n",
              "      <td>8</td>\n",
              "    </tr>\n",
              "    <tr>\n",
              "      <th>1</th>\n",
              "      <td>toronto</td>\n",
              "      <td>0</td>\n",
              "      <td>8</td>\n",
              "    </tr>\n",
              "    <tr>\n",
              "      <th>2</th>\n",
              "      <td>tronto</td>\n",
              "      <td>1</td>\n",
              "      <td>8</td>\n",
              "    </tr>\n",
              "    <tr>\n",
              "      <th>3</th>\n",
              "      <td>vancouver</td>\n",
              "      <td>8</td>\n",
              "      <td>0</td>\n",
              "    </tr>\n",
              "    <tr>\n",
              "      <th>4</th>\n",
              "      <td>vancover</td>\n",
              "      <td>7</td>\n",
              "      <td>1</td>\n",
              "    </tr>\n",
              "    <tr>\n",
              "      <th>5</th>\n",
              "      <td>vancouvr</td>\n",
              "      <td>7</td>\n",
              "      <td>1</td>\n",
              "    </tr>\n",
              "    <tr>\n",
              "      <th>6</th>\n",
              "      <td>montreal</td>\n",
              "      <td>7</td>\n",
              "      <td>8</td>\n",
              "    </tr>\n",
              "    <tr>\n",
              "      <th>7</th>\n",
              "      <td>calgary</td>\n",
              "      <td>7</td>\n",
              "      <td>8</td>\n",
              "    </tr>\n",
              "  </tbody>\n",
              "</table>\n",
              "</div>"
            ],
            "text/plain": [
              "        city  city_distance_toronto  city_distance_vancouver\n",
              "0   torontoo                      1                        8\n",
              "1    toronto                      0                        8\n",
              "2     tronto                      1                        8\n",
              "3  vancouver                      8                        0\n",
              "4   vancover                      7                        1\n",
              "5   vancouvr                      7                        1\n",
              "6   montreal                      7                        8\n",
              "7    calgary                      7                        8"
            ]
          },
          "metadata": {
            "tags": []
          },
          "execution_count": 28
        }
      ]
    },
    {
      "cell_type": "markdown",
      "metadata": {
        "id": "AL8fzobqKQvK"
      },
      "source": [
        "**¿Qué hacer?**\n",
        "\n",
        "Podemos establecer criterios para convertir estos errores tipográficos a los valores correctos. Por ejemplo, el siguiente código establece que todos los valores dentro de una distancia de 2 letras de \"toronto\" sean \"toronto\"."
      ]
    },
    {
      "cell_type": "code",
      "metadata": {
        "colab": {
          "base_uri": "https://localhost:8080/",
          "height": 297
        },
        "id": "UW0bVnKPKZlv",
        "outputId": "640c9125-62c9-4af6-cc29-eaa63f34f446"
      },
      "source": [
        "msk = df_city_ex['city_distance_toronto'] <= 2\n",
        "df_city_ex.loc[msk, 'city'] = 'toronto'\n",
        "\n",
        "msk = df_city_ex['city_distance_vancouver'] <= 2\n",
        "df_city_ex.loc[msk, 'city'] = 'vancouver'\n",
        "\n",
        "df_city_ex"
      ],
      "execution_count": 29,
      "outputs": [
        {
          "output_type": "execute_result",
          "data": {
            "text/html": [
              "<div>\n",
              "<style scoped>\n",
              "    .dataframe tbody tr th:only-of-type {\n",
              "        vertical-align: middle;\n",
              "    }\n",
              "\n",
              "    .dataframe tbody tr th {\n",
              "        vertical-align: top;\n",
              "    }\n",
              "\n",
              "    .dataframe thead th {\n",
              "        text-align: right;\n",
              "    }\n",
              "</style>\n",
              "<table border=\"1\" class=\"dataframe\">\n",
              "  <thead>\n",
              "    <tr style=\"text-align: right;\">\n",
              "      <th></th>\n",
              "      <th>city</th>\n",
              "      <th>city_distance_toronto</th>\n",
              "      <th>city_distance_vancouver</th>\n",
              "    </tr>\n",
              "  </thead>\n",
              "  <tbody>\n",
              "    <tr>\n",
              "      <th>0</th>\n",
              "      <td>toronto</td>\n",
              "      <td>1</td>\n",
              "      <td>8</td>\n",
              "    </tr>\n",
              "    <tr>\n",
              "      <th>1</th>\n",
              "      <td>toronto</td>\n",
              "      <td>0</td>\n",
              "      <td>8</td>\n",
              "    </tr>\n",
              "    <tr>\n",
              "      <th>2</th>\n",
              "      <td>toronto</td>\n",
              "      <td>1</td>\n",
              "      <td>8</td>\n",
              "    </tr>\n",
              "    <tr>\n",
              "      <th>3</th>\n",
              "      <td>vancouver</td>\n",
              "      <td>8</td>\n",
              "      <td>0</td>\n",
              "    </tr>\n",
              "    <tr>\n",
              "      <th>4</th>\n",
              "      <td>vancouver</td>\n",
              "      <td>7</td>\n",
              "      <td>1</td>\n",
              "    </tr>\n",
              "    <tr>\n",
              "      <th>5</th>\n",
              "      <td>vancouver</td>\n",
              "      <td>7</td>\n",
              "      <td>1</td>\n",
              "    </tr>\n",
              "    <tr>\n",
              "      <th>6</th>\n",
              "      <td>montreal</td>\n",
              "      <td>7</td>\n",
              "      <td>8</td>\n",
              "    </tr>\n",
              "    <tr>\n",
              "      <th>7</th>\n",
              "      <td>calgary</td>\n",
              "      <td>7</td>\n",
              "      <td>8</td>\n",
              "    </tr>\n",
              "  </tbody>\n",
              "</table>\n",
              "</div>"
            ],
            "text/plain": [
              "        city  city_distance_toronto  city_distance_vancouver\n",
              "0    toronto                      1                        8\n",
              "1    toronto                      0                        8\n",
              "2    toronto                      1                        8\n",
              "3  vancouver                      8                        0\n",
              "4  vancouver                      7                        1\n",
              "5  vancouver                      7                        1\n",
              "6   montreal                      7                        8\n",
              "7    calgary                      7                        8"
            ]
          },
          "metadata": {
            "tags": []
          },
          "execution_count": 29
        }
      ]
    },
    {
      "cell_type": "markdown",
      "metadata": {
        "id": "hnjUOv9xKdeX"
      },
      "source": [
        "## 4: Direcciones\n",
        "\n",
        "La característica de la dirección puede acarrear muchos problemas (y en general el texto libre). Porque la gente que introduce los datos en la base de datos a menudo no sigue un formato estándar.\n",
        "\n",
        "**¿Cómo averiguarlo?**\n",
        "\n",
        "Podemos encontrar datos de direcciones desordenados mirándolos. Aunque a veces no podemos detectar ningún problema, podemos ejecutar el código para estandarizarlos.\n",
        "\n",
        "No hay una columna de direcciones en nuestro conjunto de datos por razones de privacidad. Así que creamos un nuevo conjunto de datos *df_add_ex* con la dirección de la característica."
      ]
    },
    {
      "cell_type": "code",
      "metadata": {
        "colab": {
          "base_uri": "https://localhost:8080/",
          "height": 173
        },
        "id": "jM_p52KGKx2L",
        "outputId": "1ad98661-91d0-49f5-ae1e-e46446d39d3b"
      },
      "source": [
        "# no address column in the housing dataset. So create one to show the code.\n",
        "df_add_ex = pd.DataFrame(['123 MAIN St Apartment 15', '123 Main Street Apt 12   ', '543 FirSt Av', '  876 FIRst Ave.'], columns=['address'])\n",
        "df_add_ex"
      ],
      "execution_count": 30,
      "outputs": [
        {
          "output_type": "execute_result",
          "data": {
            "text/html": [
              "<div>\n",
              "<style scoped>\n",
              "    .dataframe tbody tr th:only-of-type {\n",
              "        vertical-align: middle;\n",
              "    }\n",
              "\n",
              "    .dataframe tbody tr th {\n",
              "        vertical-align: top;\n",
              "    }\n",
              "\n",
              "    .dataframe thead th {\n",
              "        text-align: right;\n",
              "    }\n",
              "</style>\n",
              "<table border=\"1\" class=\"dataframe\">\n",
              "  <thead>\n",
              "    <tr style=\"text-align: right;\">\n",
              "      <th></th>\n",
              "      <th>address</th>\n",
              "    </tr>\n",
              "  </thead>\n",
              "  <tbody>\n",
              "    <tr>\n",
              "      <th>0</th>\n",
              "      <td>123 MAIN St Apartment 15</td>\n",
              "    </tr>\n",
              "    <tr>\n",
              "      <th>1</th>\n",
              "      <td>123 Main Street Apt 12</td>\n",
              "    </tr>\n",
              "    <tr>\n",
              "      <th>2</th>\n",
              "      <td>543 FirSt Av</td>\n",
              "    </tr>\n",
              "    <tr>\n",
              "      <th>3</th>\n",
              "      <td>876 FIRst Ave.</td>\n",
              "    </tr>\n",
              "  </tbody>\n",
              "</table>\n",
              "</div>"
            ],
            "text/plain": [
              "                     address\n",
              "0   123 MAIN St Apartment 15\n",
              "1  123 Main Street Apt 12   \n",
              "2               543 FirSt Av\n",
              "3             876 FIRst Ave."
            ]
          },
          "metadata": {
            "tags": []
          },
          "execution_count": 30
        }
      ]
    },
    {
      "cell_type": "markdown",
      "metadata": {
        "id": "3gndoSDbK4IA"
      },
      "source": [
        "**¿Qué hacer?**\n",
        "\n",
        "Ejecutamos el siguiente código para poner las letras en minúsculas, eliminar los espacios en blanco, eliminar los puntos y estandarizar las palabras."
      ]
    },
    {
      "cell_type": "code",
      "metadata": {
        "id": "eyRF2FR7K9pE",
        "colab": {
          "base_uri": "https://localhost:8080/",
          "height": 173
        },
        "outputId": "f56ef865-482e-49ba-f68f-f3db9a61e4ee"
      },
      "source": [
        "df_add_ex['address_std'] = df_add_ex['address'].str.lower()\n",
        "df_add_ex['address_std'] = df_add_ex['address_std'].str.strip() # remove leading and trailing whitespace.\n",
        "df_add_ex['address_std'] = df_add_ex['address_std'].str.replace('\\\\.', '') # remove period.\n",
        "df_add_ex['address_std'] = df_add_ex['address_std'].str.replace('\\\\bstreet\\\\b', 'st') # replace street with st.\n",
        "df_add_ex['address_std'] = df_add_ex['address_std'].str.replace('\\\\bapartment\\\\b', 'apt') # replace apartment with apt.\n",
        "df_add_ex['address_std'] = df_add_ex['address_std'].str.replace('\\\\bav\\\\b', 'ave') # replace apartment with apt.\n",
        "\n",
        "df_add_ex"
      ],
      "execution_count": 31,
      "outputs": [
        {
          "output_type": "execute_result",
          "data": {
            "text/html": [
              "<div>\n",
              "<style scoped>\n",
              "    .dataframe tbody tr th:only-of-type {\n",
              "        vertical-align: middle;\n",
              "    }\n",
              "\n",
              "    .dataframe tbody tr th {\n",
              "        vertical-align: top;\n",
              "    }\n",
              "\n",
              "    .dataframe thead th {\n",
              "        text-align: right;\n",
              "    }\n",
              "</style>\n",
              "<table border=\"1\" class=\"dataframe\">\n",
              "  <thead>\n",
              "    <tr style=\"text-align: right;\">\n",
              "      <th></th>\n",
              "      <th>address</th>\n",
              "      <th>address_std</th>\n",
              "    </tr>\n",
              "  </thead>\n",
              "  <tbody>\n",
              "    <tr>\n",
              "      <th>0</th>\n",
              "      <td>123 MAIN St Apartment 15</td>\n",
              "      <td>123 main st apt 15</td>\n",
              "    </tr>\n",
              "    <tr>\n",
              "      <th>1</th>\n",
              "      <td>123 Main Street Apt 12</td>\n",
              "      <td>123 main st apt 12</td>\n",
              "    </tr>\n",
              "    <tr>\n",
              "      <th>2</th>\n",
              "      <td>543 FirSt Av</td>\n",
              "      <td>543 first ave</td>\n",
              "    </tr>\n",
              "    <tr>\n",
              "      <th>3</th>\n",
              "      <td>876 FIRst Ave.</td>\n",
              "      <td>876 first ave</td>\n",
              "    </tr>\n",
              "  </tbody>\n",
              "</table>\n",
              "</div>"
            ],
            "text/plain": [
              "                     address         address_std\n",
              "0   123 MAIN St Apartment 15  123 main st apt 15\n",
              "1  123 Main Street Apt 12     123 main st apt 12\n",
              "2               543 FirSt Av       543 first ave\n",
              "3             876 FIRst Ave.       876 first ave"
            ]
          },
          "metadata": {
            "tags": []
          },
          "execution_count": 31
        }
      ]
    }
  ]
}